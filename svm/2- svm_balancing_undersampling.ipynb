{
 "cells": [
  {
   "cell_type": "code",
   "execution_count": 1,
   "metadata": {
    "colab": {
     "base_uri": "https://localhost:8080/"
    },
    "executionInfo": {
     "elapsed": 8725,
     "status": "ok",
     "timestamp": 1746235581659,
     "user": {
      "displayName": "Luirys Nascimento",
      "userId": "04569512085598904612"
     },
     "user_tz": 180
    },
    "id": "QII1vevFjPNl",
    "outputId": "934693ce-5220-4ff1-89af-d372e540de17"
   },
   "outputs": [
    {
     "name": "stdout",
     "output_type": "stream",
     "text": [
      "Requirement already satisfied: pandas in c:\\users\\cadastro\\appdata\\local\\programs\\python\\python311\\lib\\site-packages (2.3.1)\n",
      "Requirement already satisfied: numpy>=1.23.2 in c:\\users\\cadastro\\appdata\\local\\programs\\python\\python311\\lib\\site-packages (from pandas) (2.1.3)\n",
      "Requirement already satisfied: python-dateutil>=2.8.2 in c:\\users\\cadastro\\appdata\\roaming\\python\\python311\\site-packages (from pandas) (2.9.0.post0)\n",
      "Requirement already satisfied: pytz>=2020.1 in c:\\users\\cadastro\\appdata\\local\\programs\\python\\python311\\lib\\site-packages (from pandas) (2025.2)\n",
      "Requirement already satisfied: tzdata>=2022.7 in c:\\users\\cadastro\\appdata\\local\\programs\\python\\python311\\lib\\site-packages (from pandas) (2025.2)\n",
      "Requirement already satisfied: six>=1.5 in c:\\users\\cadastro\\appdata\\roaming\\python\\python311\\site-packages (from python-dateutil>=2.8.2->pandas) (1.17.0)\n",
      "Note: you may need to restart the kernel to use updated packages.\n",
      "Requirement already satisfied: matplotlib in c:\\users\\cadastro\\appdata\\local\\programs\\python\\python311\\lib\\site-packages (3.10.3)\n",
      "Requirement already satisfied: contourpy>=1.0.1 in c:\\users\\cadastro\\appdata\\local\\programs\\python\\python311\\lib\\site-packages (from matplotlib) (1.3.3)\n",
      "Requirement already satisfied: cycler>=0.10 in c:\\users\\cadastro\\appdata\\local\\programs\\python\\python311\\lib\\site-packages (from matplotlib) (0.12.1)\n",
      "Requirement already satisfied: fonttools>=4.22.0 in c:\\users\\cadastro\\appdata\\local\\programs\\python\\python311\\lib\\site-packages (from matplotlib) (4.59.0)\n",
      "Requirement already satisfied: kiwisolver>=1.3.1 in c:\\users\\cadastro\\appdata\\local\\programs\\python\\python311\\lib\\site-packages (from matplotlib) (1.4.8)\n",
      "Requirement already satisfied: numpy>=1.23 in c:\\users\\cadastro\\appdata\\local\\programs\\python\\python311\\lib\\site-packages (from matplotlib) (2.1.3)\n",
      "Requirement already satisfied: packaging>=20.0 in c:\\users\\cadastro\\appdata\\roaming\\python\\python311\\site-packages (from matplotlib) (25.0)\n",
      "Requirement already satisfied: pillow>=8 in c:\\users\\cadastro\\appdata\\local\\programs\\python\\python311\\lib\\site-packages (from matplotlib) (11.3.0)\n",
      "Requirement already satisfied: pyparsing>=2.3.1 in c:\\users\\cadastro\\appdata\\local\\programs\\python\\python311\\lib\\site-packages (from matplotlib) (3.2.3)\n",
      "Requirement already satisfied: python-dateutil>=2.7 in c:\\users\\cadastro\\appdata\\roaming\\python\\python311\\site-packages (from matplotlib) (2.9.0.post0)\n",
      "Requirement already satisfied: six>=1.5 in c:\\users\\cadastro\\appdata\\roaming\\python\\python311\\site-packages (from python-dateutil>=2.7->matplotlib) (1.17.0)\n",
      "Note: you may need to restart the kernel to use updated packages.\n",
      "Requirement already satisfied: seaborn in c:\\users\\cadastro\\appdata\\local\\programs\\python\\python311\\lib\\site-packages (0.13.2)\n",
      "Requirement already satisfied: numpy!=1.24.0,>=1.20 in c:\\users\\cadastro\\appdata\\local\\programs\\python\\python311\\lib\\site-packages (from seaborn) (2.1.3)\n",
      "Requirement already satisfied: pandas>=1.2 in c:\\users\\cadastro\\appdata\\local\\programs\\python\\python311\\lib\\site-packages (from seaborn) (2.3.1)\n",
      "Requirement already satisfied: matplotlib!=3.6.1,>=3.4 in c:\\users\\cadastro\\appdata\\local\\programs\\python\\python311\\lib\\site-packages (from seaborn) (3.10.3)\n",
      "Requirement already satisfied: contourpy>=1.0.1 in c:\\users\\cadastro\\appdata\\local\\programs\\python\\python311\\lib\\site-packages (from matplotlib!=3.6.1,>=3.4->seaborn) (1.3.3)\n",
      "Requirement already satisfied: cycler>=0.10 in c:\\users\\cadastro\\appdata\\local\\programs\\python\\python311\\lib\\site-packages (from matplotlib!=3.6.1,>=3.4->seaborn) (0.12.1)\n",
      "Requirement already satisfied: fonttools>=4.22.0 in c:\\users\\cadastro\\appdata\\local\\programs\\python\\python311\\lib\\site-packages (from matplotlib!=3.6.1,>=3.4->seaborn) (4.59.0)\n",
      "Requirement already satisfied: kiwisolver>=1.3.1 in c:\\users\\cadastro\\appdata\\local\\programs\\python\\python311\\lib\\site-packages (from matplotlib!=3.6.1,>=3.4->seaborn) (1.4.8)\n",
      "Requirement already satisfied: packaging>=20.0 in c:\\users\\cadastro\\appdata\\roaming\\python\\python311\\site-packages (from matplotlib!=3.6.1,>=3.4->seaborn) (25.0)\n",
      "Requirement already satisfied: pillow>=8 in c:\\users\\cadastro\\appdata\\local\\programs\\python\\python311\\lib\\site-packages (from matplotlib!=3.6.1,>=3.4->seaborn) (11.3.0)\n",
      "Requirement already satisfied: pyparsing>=2.3.1 in c:\\users\\cadastro\\appdata\\local\\programs\\python\\python311\\lib\\site-packages (from matplotlib!=3.6.1,>=3.4->seaborn) (3.2.3)\n",
      "Requirement already satisfied: python-dateutil>=2.7 in c:\\users\\cadastro\\appdata\\roaming\\python\\python311\\site-packages (from matplotlib!=3.6.1,>=3.4->seaborn) (2.9.0.post0)\n",
      "Requirement already satisfied: pytz>=2020.1 in c:\\users\\cadastro\\appdata\\local\\programs\\python\\python311\\lib\\site-packages (from pandas>=1.2->seaborn) (2025.2)\n",
      "Requirement already satisfied: tzdata>=2022.7 in c:\\users\\cadastro\\appdata\\local\\programs\\python\\python311\\lib\\site-packages (from pandas>=1.2->seaborn) (2025.2)\n",
      "Requirement already satisfied: six>=1.5 in c:\\users\\cadastro\\appdata\\roaming\\python\\python311\\site-packages (from python-dateutil>=2.7->matplotlib!=3.6.1,>=3.4->seaborn) (1.17.0)\n",
      "Note: you may need to restart the kernel to use updated packages.\n",
      "Requirement already satisfied: nltk in c:\\users\\cadastro\\appdata\\local\\programs\\python\\python311\\lib\\site-packages (3.9.1)\n",
      "Requirement already satisfied: click in c:\\users\\cadastro\\appdata\\local\\programs\\python\\python311\\lib\\site-packages (from nltk) (8.2.1)\n",
      "Requirement already satisfied: joblib in c:\\users\\cadastro\\appdata\\local\\programs\\python\\python311\\lib\\site-packages (from nltk) (1.5.1)\n",
      "Requirement already satisfied: regex>=2021.8.3 in c:\\users\\cadastro\\appdata\\local\\programs\\python\\python311\\lib\\site-packages (from nltk) (2024.11.6)\n",
      "Requirement already satisfied: tqdm in c:\\users\\cadastro\\appdata\\local\\programs\\python\\python311\\lib\\site-packages (from nltk) (4.67.1)\n",
      "Requirement already satisfied: colorama in c:\\users\\cadastro\\appdata\\roaming\\python\\python311\\site-packages (from click->nltk) (0.4.6)\n",
      "Note: you may need to restart the kernel to use updated packages.\n",
      "Requirement already satisfied: lime in c:\\users\\cadastro\\appdata\\local\\programs\\python\\python311\\lib\\site-packages (0.2.0.1)\n",
      "Requirement already satisfied: matplotlib in c:\\users\\cadastro\\appdata\\local\\programs\\python\\python311\\lib\\site-packages (from lime) (3.10.3)\n",
      "Requirement already satisfied: numpy in c:\\users\\cadastro\\appdata\\local\\programs\\python\\python311\\lib\\site-packages (from lime) (2.1.3)\n",
      "Requirement already satisfied: scipy in c:\\users\\cadastro\\appdata\\local\\programs\\python\\python311\\lib\\site-packages (from lime) (1.16.1)\n",
      "Requirement already satisfied: tqdm in c:\\users\\cadastro\\appdata\\local\\programs\\python\\python311\\lib\\site-packages (from lime) (4.67.1)\n",
      "Requirement already satisfied: scikit-learn>=0.18 in c:\\users\\cadastro\\appdata\\local\\programs\\python\\python311\\lib\\site-packages (from lime) (1.6.1)\n",
      "Requirement already satisfied: scikit-image>=0.12 in c:\\users\\cadastro\\appdata\\local\\programs\\python\\python311\\lib\\site-packages (from lime) (0.25.2)\n",
      "Requirement already satisfied: networkx>=3.0 in c:\\users\\cadastro\\appdata\\local\\programs\\python\\python311\\lib\\site-packages (from scikit-image>=0.12->lime) (3.5)\n",
      "Requirement already satisfied: pillow>=10.1 in c:\\users\\cadastro\\appdata\\local\\programs\\python\\python311\\lib\\site-packages (from scikit-image>=0.12->lime) (11.3.0)\n",
      "Requirement already satisfied: imageio!=2.35.0,>=2.33 in c:\\users\\cadastro\\appdata\\local\\programs\\python\\python311\\lib\\site-packages (from scikit-image>=0.12->lime) (2.37.0)\n",
      "Requirement already satisfied: tifffile>=2022.8.12 in c:\\users\\cadastro\\appdata\\local\\programs\\python\\python311\\lib\\site-packages (from scikit-image>=0.12->lime) (2025.6.11)\n",
      "Requirement already satisfied: packaging>=21 in c:\\users\\cadastro\\appdata\\roaming\\python\\python311\\site-packages (from scikit-image>=0.12->lime) (25.0)\n",
      "Requirement already satisfied: lazy-loader>=0.4 in c:\\users\\cadastro\\appdata\\local\\programs\\python\\python311\\lib\\site-packages (from scikit-image>=0.12->lime) (0.4)\n",
      "Requirement already satisfied: joblib>=1.2.0 in c:\\users\\cadastro\\appdata\\local\\programs\\python\\python311\\lib\\site-packages (from scikit-learn>=0.18->lime) (1.5.1)\n",
      "Requirement already satisfied: threadpoolctl>=3.1.0 in c:\\users\\cadastro\\appdata\\local\\programs\\python\\python311\\lib\\site-packages (from scikit-learn>=0.18->lime) (3.6.0)\n",
      "Requirement already satisfied: contourpy>=1.0.1 in c:\\users\\cadastro\\appdata\\local\\programs\\python\\python311\\lib\\site-packages (from matplotlib->lime) (1.3.3)\n",
      "Requirement already satisfied: cycler>=0.10 in c:\\users\\cadastro\\appdata\\local\\programs\\python\\python311\\lib\\site-packages (from matplotlib->lime) (0.12.1)\n",
      "Requirement already satisfied: fonttools>=4.22.0 in c:\\users\\cadastro\\appdata\\local\\programs\\python\\python311\\lib\\site-packages (from matplotlib->lime) (4.59.0)\n",
      "Requirement already satisfied: kiwisolver>=1.3.1 in c:\\users\\cadastro\\appdata\\local\\programs\\python\\python311\\lib\\site-packages (from matplotlib->lime) (1.4.8)\n",
      "Requirement already satisfied: pyparsing>=2.3.1 in c:\\users\\cadastro\\appdata\\local\\programs\\python\\python311\\lib\\site-packages (from matplotlib->lime) (3.2.3)\n",
      "Requirement already satisfied: python-dateutil>=2.7 in c:\\users\\cadastro\\appdata\\roaming\\python\\python311\\site-packages (from matplotlib->lime) (2.9.0.post0)\n",
      "Requirement already satisfied: six>=1.5 in c:\\users\\cadastro\\appdata\\roaming\\python\\python311\\site-packages (from python-dateutil>=2.7->matplotlib->lime) (1.17.0)\n",
      "Requirement already satisfied: colorama in c:\\users\\cadastro\\appdata\\roaming\\python\\python311\\site-packages (from tqdm->lime) (0.4.6)\n",
      "Note: you may need to restart the kernel to use updated packages.\n",
      "Requirement already satisfied: imbalanced-learn in c:\\users\\cadastro\\appdata\\local\\programs\\python\\python311\\lib\\site-packages (0.13.0)\n",
      "Requirement already satisfied: numpy<3,>=1.24.3 in c:\\users\\cadastro\\appdata\\local\\programs\\python\\python311\\lib\\site-packages (from imbalanced-learn) (2.1.3)\n",
      "Requirement already satisfied: scipy<2,>=1.10.1 in c:\\users\\cadastro\\appdata\\local\\programs\\python\\python311\\lib\\site-packages (from imbalanced-learn) (1.16.1)\n",
      "Requirement already satisfied: scikit-learn<2,>=1.3.2 in c:\\users\\cadastro\\appdata\\local\\programs\\python\\python311\\lib\\site-packages (from imbalanced-learn) (1.6.1)\n",
      "Requirement already satisfied: sklearn-compat<1,>=0.1 in c:\\users\\cadastro\\appdata\\local\\programs\\python\\python311\\lib\\site-packages (from imbalanced-learn) (0.1.3)\n",
      "Requirement already satisfied: joblib<2,>=1.1.1 in c:\\users\\cadastro\\appdata\\local\\programs\\python\\python311\\lib\\site-packages (from imbalanced-learn) (1.5.1)\n",
      "Requirement already satisfied: threadpoolctl<4,>=2.0.0 in c:\\users\\cadastro\\appdata\\local\\programs\\python\\python311\\lib\\site-packages (from imbalanced-learn) (3.6.0)\n",
      "Note: you may need to restart the kernel to use updated packages.\n"
     ]
    }
   ],
   "source": [
    "%pip install pandas\n",
    "%pip install matplotlib\n",
    "%pip install seaborn\n",
    "%pip install nltk\n",
    "%pip install lime\n",
    "\n",
    "%pip install imbalanced-learn"
   ]
  },
  {
   "cell_type": "code",
   "execution_count": 2,
   "metadata": {
    "executionInfo": {
     "elapsed": 8243,
     "status": "ok",
     "timestamp": 1746235589939,
     "user": {
      "displayName": "Luirys Nascimento",
      "userId": "04569512085598904612"
     },
     "user_tz": 180
    },
    "id": "q3KevLfEhX0Z"
   },
   "outputs": [],
   "source": [
    "#importando pacotes e bibliotecas para um SVM\n",
    "\n",
    "import pandas as pd\n",
    "import numpy as np\n",
    "import re\n",
    "import nltk\n",
    "import matplotlib.pyplot as plt\n",
    "import seaborn as sns\n",
    "\n",
    "from sklearn import svm\n",
    "from sklearn.model_selection import train_test_split\n",
    "from sklearn.metrics import accuracy_score, classification_report, confusion_matrix\n",
    "from sklearn.preprocessing import StandardScaler\n",
    "from sklearn.pipeline import make_pipeline\n",
    "from sklearn.svm import SVC\n",
    "#from sklearn.feature_extraction.text import CountVectorizer #converter os textos em uma matriz\n",
    "from sklearn.feature_extraction.text import TfidfTransformer #frequencia que o termo aparece\n",
    "from lime.lime_text import LimeTextExplainer\n",
    "\n",
    "#from sklearn.svm import LinearSVC, SVC # dados lineares / não lineares\n",
    "from sklearn.pipeline import Pipeline\n",
    "from sklearn.svm import LinearSVC"
   ]
  },
  {
   "cell_type": "code",
   "execution_count": 3,
   "metadata": {
    "colab": {
     "base_uri": "https://localhost:8080/",
     "height": 73
    },
    "executionInfo": {
     "elapsed": 35174,
     "status": "ok",
     "timestamp": 1746235625145,
     "user": {
      "displayName": "Luirys Nascimento",
      "userId": "04569512085598904612"
     },
     "user_tz": 180
    },
    "id": "w-w3wCxc2OXy",
    "outputId": "ec6578a8-0832-4c2d-b4d2-94a734b6a5c0"
   },
   "outputs": [],
   "source": [
    "#importando dataset\n",
    "\n",
    "df = pd.read_csv(\"all-data.csv\")"
   ]
  },
  {
   "cell_type": "code",
   "execution_count": 4,
   "metadata": {
    "colab": {
     "base_uri": "https://localhost:8080/",
     "height": 206
    },
    "executionInfo": {
     "elapsed": 45,
     "status": "ok",
     "timestamp": 1746235625243,
     "user": {
      "displayName": "Luirys Nascimento",
      "userId": "04569512085598904612"
     },
     "user_tz": 180
    },
    "id": "itEgJo5gkVBi",
    "outputId": "e3faa396-fe64-42d6-e31d-f50fbaf457c5"
   },
   "outputs": [
    {
     "data": {
      "text/html": [
       "<div>\n",
       "<style scoped>\n",
       "    .dataframe tbody tr th:only-of-type {\n",
       "        vertical-align: middle;\n",
       "    }\n",
       "\n",
       "    .dataframe tbody tr th {\n",
       "        vertical-align: top;\n",
       "    }\n",
       "\n",
       "    .dataframe thead th {\n",
       "        text-align: right;\n",
       "    }\n",
       "</style>\n",
       "<table border=\"1\" class=\"dataframe\">\n",
       "  <thead>\n",
       "    <tr style=\"text-align: right;\">\n",
       "      <th></th>\n",
       "      <th>sentiment</th>\n",
       "      <th>text</th>\n",
       "    </tr>\n",
       "  </thead>\n",
       "  <tbody>\n",
       "    <tr>\n",
       "      <th>0</th>\n",
       "      <td>neutral</td>\n",
       "      <td>According to Gran , the company has no plans t...</td>\n",
       "    </tr>\n",
       "    <tr>\n",
       "      <th>1</th>\n",
       "      <td>neutral</td>\n",
       "      <td>Technopolis plans to develop in stages an area...</td>\n",
       "    </tr>\n",
       "    <tr>\n",
       "      <th>2</th>\n",
       "      <td>negative</td>\n",
       "      <td>The international electronic industry company ...</td>\n",
       "    </tr>\n",
       "    <tr>\n",
       "      <th>3</th>\n",
       "      <td>positive</td>\n",
       "      <td>With the new production plant the company woul...</td>\n",
       "    </tr>\n",
       "    <tr>\n",
       "      <th>4</th>\n",
       "      <td>positive</td>\n",
       "      <td>According to the company 's updated strategy f...</td>\n",
       "    </tr>\n",
       "  </tbody>\n",
       "</table>\n",
       "</div>"
      ],
      "text/plain": [
       "  sentiment                                               text\n",
       "0   neutral  According to Gran , the company has no plans t...\n",
       "1   neutral  Technopolis plans to develop in stages an area...\n",
       "2  negative  The international electronic industry company ...\n",
       "3  positive  With the new production plant the company woul...\n",
       "4  positive  According to the company 's updated strategy f..."
      ]
     },
     "execution_count": 4,
     "metadata": {},
     "output_type": "execute_result"
    }
   ],
   "source": [
    "df.head(5)"
   ]
  },
  {
   "cell_type": "code",
   "execution_count": 5,
   "metadata": {
    "colab": {
     "base_uri": "https://localhost:8080/"
    },
    "executionInfo": {
     "elapsed": 15,
     "status": "ok",
     "timestamp": 1746235625267,
     "user": {
      "displayName": "Luirys Nascimento",
      "userId": "04569512085598904612"
     },
     "user_tz": 180
    },
    "id": "kCV-_Ofq3IPB",
    "outputId": "4963a590-2ced-45d3-8717-3c8a92f34819"
   },
   "outputs": [
    {
     "data": {
      "text/plain": [
       "(4846, 2)"
      ]
     },
     "execution_count": 5,
     "metadata": {},
     "output_type": "execute_result"
    }
   ],
   "source": [
    "df.shape"
   ]
  },
  {
   "cell_type": "code",
   "execution_count": 6,
   "metadata": {
    "colab": {
     "base_uri": "https://localhost:8080/",
     "height": 209
    },
    "executionInfo": {
     "elapsed": 99,
     "status": "ok",
     "timestamp": 1746235625368,
     "user": {
      "displayName": "Luirys Nascimento",
      "userId": "04569512085598904612"
     },
     "user_tz": 180
    },
    "id": "Xb_3cod_3LgB",
    "outputId": "79a3902b-6b45-4955-8b0e-69353f90d032"
   },
   "outputs": [
    {
     "data": {
      "text/plain": [
       "<Axes: xlabel='sentiment', ylabel='count'>"
      ]
     },
     "execution_count": 6,
     "metadata": {},
     "output_type": "execute_result"
    },
    {
     "data": {
      "image/png": "[encoded data removed]",
      "text/plain": [
       "<Figure size 640x480 with 1 Axes>"
      ]
     },
     "metadata": {},
     "output_type": "display_data"
    }
   ],
   "source": [
    "#exibindo os dados em um gráfico de barras\n",
    "sns.countplot(x='sentiment', data=df)"
   ]
  },
  {
   "cell_type": "markdown",
   "metadata": {
    "id": "Ctl84pVFycNb"
   },
   "source": [
    "**Pré-processamento**"
   ]
  },
  {
   "cell_type": "code",
   "execution_count": 7,
   "metadata": {
    "colab": {
     "base_uri": "https://localhost:8080/"
    },
    "executionInfo": {
     "elapsed": 6244,
     "status": "ok",
     "timestamp": 1746235631795,
     "user": {
      "displayName": "Luirys Nascimento",
      "userId": "04569512085598904612"
     },
     "user_tz": 180
    },
    "id": "a3aKcz9Iyfk7",
    "outputId": "708ba815-4905-41b3-b731-8664d86d1ee9"
   },
   "outputs": [
    {
     "name": "stderr",
     "output_type": "stream",
     "text": [
      "[nltk_data] Downloading package stopwords to\n",
      "[nltk_data]     C:\\Users\\CADASTRO\\AppData\\Roaming\\nltk_data...\n",
      "[nltk_data]   Package stopwords is already up-to-date!\n",
      "[nltk_data] Downloading package punkt to\n",
      "[nltk_data]     C:\\Users\\CADASTRO\\AppData\\Roaming\\nltk_data...\n",
      "[nltk_data]   Package punkt is already up-to-date!\n",
      "[nltk_data] Downloading package wordnet to\n",
      "[nltk_data]     C:\\Users\\CADASTRO\\AppData\\Roaming\\nltk_data...\n",
      "[nltk_data]   Package wordnet is already up-to-date!\n",
      "[nltk_data] Downloading package punkt_tab to\n",
      "[nltk_data]     C:\\Users\\CADASTRO\\AppData\\Roaming\\nltk_data...\n",
      "[nltk_data]   Package punkt_tab is already up-to-date!\n"
     ]
    },
    {
     "data": {
      "text/plain": [
       "True"
      ]
     },
     "execution_count": 7,
     "metadata": {},
     "output_type": "execute_result"
    }
   ],
   "source": [
    "from nltk.corpus import stopwords\n",
    "from nltk.tokenize import word_tokenize\n",
    "from nltk.stem import WordNetLemmatizer\n",
    "import re\n",
    "\n",
    "# Baixar pacotes necessários do NLTK\n",
    "nltk.download(\"stopwords\")\n",
    "nltk.download(\"punkt\")\n",
    "nltk.download(\"wordnet\")\n",
    "nltk.download('punkt_tab') # Download the 'punkt_tab' resource"
   ]
  },
  {
   "cell_type": "code",
   "execution_count": 8,
   "metadata": {
    "executionInfo": {
     "elapsed": 60,
     "status": "ok",
     "timestamp": 1746235631857,
     "user": {
      "displayName": "Luirys Nascimento",
      "userId": "04569512085598904612"
     },
     "user_tz": 180
    },
    "id": "7Y3rnrOxyge7"
   },
   "outputs": [],
   "source": [
    "def preprocess_text(text):\n",
    "    # Converter para minúsculas\n",
    "    text = text.lower()\n",
    "\n",
    "    # Remover caracteres especiais e números\n",
    "    text = re.sub(r\"[^a-zA-Z\\s]\", \"\", text)\n",
    "\n",
    "    # Tokenização (dividir em palavras)\n",
    "    tokens = word_tokenize(text)\n",
    "\n",
    "    # Remover stopwords\n",
    "    stop_words = set(stopwords.words(\"english\"))\n",
    "    tokens = [word for word in tokens if word not in stop_words]\n",
    "\n",
    "    # Lematização (reduzir palavras à sua forma base)\n",
    "    lemmatizer = WordNetLemmatizer()\n",
    "    tokens = [lemmatizer.lemmatize(word) for word in tokens]\n",
    "\n",
    "    # Juntar as palavras processadas de volta em uma string\n",
    "    return \" \".join(tokens)"
   ]
  },
  {
   "cell_type": "code",
   "execution_count": 9,
   "metadata": {
    "executionInfo": {
     "elapsed": 11843,
     "status": "ok",
     "timestamp": 1746235643698,
     "user": {
      "displayName": "Luirys Nascimento",
      "userId": "04569512085598904612"
     },
     "user_tz": 180
    },
    "id": "YOHokqfFzFfX"
   },
   "outputs": [],
   "source": [
    "df[\"clean_text\"] = df[\"text\"].apply(preprocess_text)"
   ]
  },
  {
   "cell_type": "code",
   "execution_count": 10,
   "metadata": {
    "colab": {
     "base_uri": "https://localhost:8080/",
     "height": 293
    },
    "executionInfo": {
     "elapsed": 90,
     "status": "ok",
     "timestamp": 1746235643787,
     "user": {
      "displayName": "Luirys Nascimento",
      "userId": "04569512085598904612"
     },
     "user_tz": 180
    },
    "id": "1htjdWLa0Vfz",
    "outputId": "41e01ecb-bbf2-4406-88aa-f8d3dd61c647"
   },
   "outputs": [
    {
     "data": {
      "text/html": [
       "<div>\n",
       "<style scoped>\n",
       "    .dataframe tbody tr th:only-of-type {\n",
       "        vertical-align: middle;\n",
       "    }\n",
       "\n",
       "    .dataframe tbody tr th {\n",
       "        vertical-align: top;\n",
       "    }\n",
       "\n",
       "    .dataframe thead th {\n",
       "        text-align: right;\n",
       "    }\n",
       "</style>\n",
       "<table border=\"1\" class=\"dataframe\">\n",
       "  <thead>\n",
       "    <tr style=\"text-align: right;\">\n",
       "      <th></th>\n",
       "      <th>sentiment</th>\n",
       "      <th>text</th>\n",
       "      <th>clean_text</th>\n",
       "    </tr>\n",
       "  </thead>\n",
       "  <tbody>\n",
       "    <tr>\n",
       "      <th>0</th>\n",
       "      <td>neutral</td>\n",
       "      <td>According to Gran , the company has no plans t...</td>\n",
       "      <td>according gran company plan move production ru...</td>\n",
       "    </tr>\n",
       "    <tr>\n",
       "      <th>1</th>\n",
       "      <td>neutral</td>\n",
       "      <td>Technopolis plans to develop in stages an area...</td>\n",
       "      <td>technopolis plan develop stage area less squar...</td>\n",
       "    </tr>\n",
       "    <tr>\n",
       "      <th>2</th>\n",
       "      <td>negative</td>\n",
       "      <td>The international electronic industry company ...</td>\n",
       "      <td>international electronic industry company elco...</td>\n",
       "    </tr>\n",
       "    <tr>\n",
       "      <th>3</th>\n",
       "      <td>positive</td>\n",
       "      <td>With the new production plant the company woul...</td>\n",
       "      <td>new production plant company would increase ca...</td>\n",
       "    </tr>\n",
       "    <tr>\n",
       "      <th>4</th>\n",
       "      <td>positive</td>\n",
       "      <td>According to the company 's updated strategy f...</td>\n",
       "      <td>according company updated strategy year baswar...</td>\n",
       "    </tr>\n",
       "  </tbody>\n",
       "</table>\n",
       "</div>"
      ],
      "text/plain": [
       "  sentiment                                               text  \\\n",
       "0   neutral  According to Gran , the company has no plans t...   \n",
       "1   neutral  Technopolis plans to develop in stages an area...   \n",
       "2  negative  The international electronic industry company ...   \n",
       "3  positive  With the new production plant the company woul...   \n",
       "4  positive  According to the company 's updated strategy f...   \n",
       "\n",
       "                                          clean_text  \n",
       "0  according gran company plan move production ru...  \n",
       "1  technopolis plan develop stage area less squar...  \n",
       "2  international electronic industry company elco...  \n",
       "3  new production plant company would increase ca...  \n",
       "4  according company updated strategy year baswar...  "
      ]
     },
     "execution_count": 10,
     "metadata": {},
     "output_type": "execute_result"
    }
   ],
   "source": [
    "df.head(5)"
   ]
  },
  {
   "cell_type": "code",
   "execution_count": 11,
   "metadata": {
    "colab": {
     "base_uri": "https://localhost:8080/",
     "height": 469
    },
    "executionInfo": {
     "elapsed": 262,
     "status": "ok",
     "timestamp": 1746235644052,
     "user": {
      "displayName": "Luirys Nascimento",
      "userId": "04569512085598904612"
     },
     "user_tz": 180
    },
    "id": "B-L9jOnT0bgr",
    "outputId": "ca1561e9-d78e-44fa-9190-b8c849bcedb1"
   },
   "outputs": [
    {
     "data": {
      "text/plain": [
       "<Axes: xlabel='sentiment', ylabel='count'>"
      ]
     },
     "execution_count": 11,
     "metadata": {},
     "output_type": "execute_result"
    },
    {
     "data": {
      "image/png": "[encoded data removed]",
      "text/plain": [
       "<Figure size 640x480 with 1 Axes>"
      ]
     },
     "metadata": {},
     "output_type": "display_data"
    }
   ],
   "source": [
    "sns.countplot(x=\"sentiment\", data=df) # validando se mudou as classes"
   ]
  },
  {
   "cell_type": "markdown",
   "metadata": {
    "id": "j4T3DlLvufoA"
   },
   "source": [
    "**UNDERSAMPLING**"
   ]
  },
  {
   "cell_type": "code",
   "execution_count": 12,
   "metadata": {
    "colab": {
     "base_uri": "https://localhost:8080/"
    },
    "executionInfo": {
     "elapsed": 2144,
     "status": "ok",
     "timestamp": 1746235652059,
     "user": {
      "displayName": "Luirys Nascimento",
      "userId": "04569512085598904612"
     },
     "user_tz": 180
    },
    "id": "kckvm0Wbun7R",
    "outputId": "7b96d1ea-1568-4163-bad6-52b60fa9e2ca"
   },
   "outputs": [],
   "source": [
    "from imblearn.under_sampling import RandomUnderSampler\n",
    "from sklearn.model_selection import train_test_split\n",
    "from sklearn.feature_extraction.text import CountVectorizer\n",
    "\n",
    "# Separar features e rótulos\n",
    "X = df[\"clean_text\"]\n",
    "y = df[\"sentiment\"]\n",
    "\n",
    "# Dividir em treino e teste antes do balanceamento\n",
    "X_train, X_test, y_train, y_test = train_test_split(X, y, test_size=0.2, random_state=42)\n",
    "\n",
    "# Vetorização dos textos (CountVectorizer)\n",
    "vectorizer = CountVectorizer()\n",
    "X_train_vect = vectorizer.fit_transform(X_train)\n",
    "X_test_vect = vectorizer.transform(X_test)  # Apenas transform, sem fit\n",
    "\n",
    "# Aplicar undersampling APENAS no conjunto de treino\n",
    "undersampler = RandomUnderSampler(random_state=42)\n",
    "X_train_resampled, y_train_resampled = undersampler.fit_resample(X_train_vect, y_train)"
   ]
  },
  {
   "cell_type": "code",
   "execution_count": 13,
   "metadata": {
    "colab": {
     "base_uri": "https://localhost:8080/",
     "height": 466
    },
    "executionInfo": {
     "elapsed": 436,
     "status": "ok",
     "timestamp": 1746235652499,
     "user": {
      "displayName": "Luirys Nascimento",
      "userId": "04569512085598904612"
     },
     "user_tz": 180
    },
    "id": "DK0UwT75vg_F",
    "outputId": "7ef6d9a1-b477-463f-82c5-130043294b77"
   },
   "outputs": [
    {
     "data": {
      "text/plain": [
       "<Axes: xlabel='sentiment', ylabel='count'>"
      ]
     },
     "execution_count": 13,
     "metadata": {},
     "output_type": "execute_result"
    },
    {
     "data": {
      "image/png": "[encoded data removed]",
      "text/plain": [
       "<Figure size 640x480 with 1 Axes>"
      ]
     },
     "metadata": {},
     "output_type": "display_data"
    }
   ],
   "source": [
    "#verificar a nova distribuição de classes\n",
    "sns.countplot(x=y_train_resampled)"
   ]
  },
  {
   "cell_type": "markdown",
   "metadata": {},
   "source": [
    "TREINAMENTO"
   ]
  },
  {
   "cell_type": "code",
   "execution_count": 14,
   "metadata": {},
   "outputs": [
    {
     "data": {
      "text/html": [
       "<style>#sk-container-id-1 {\n",
       "  /* Definition of color scheme common for light and dark mode */\n",
       "  --sklearn-color-text: #000;\n",
       "  --sklearn-color-text-muted: #666;\n",
       "  --sklearn-color-line: gray;\n",
       "  /* Definition of color scheme for unfitted estimators */\n",
       "  --sklearn-color-unfitted-level-0: #fff5e6;\n",
       "  --sklearn-color-unfitted-level-1: #f6e4d2;\n",
       "  --sklearn-color-unfitted-level-2: #ffe0b3;\n",
       "  --sklearn-color-unfitted-level-3: chocolate;\n",
       "  /* Definition of color scheme for fitted estimators */\n",
       "  --sklearn-color-fitted-level-0: #f0f8ff;\n",
       "  --sklearn-color-fitted-level-1: #d4ebff;\n",
       "  --sklearn-color-fitted-level-2: #b3dbfd;\n",
       "  --sklearn-color-fitted-level-3: cornflowerblue;\n",
       "\n",
       "  /* Specific color for light theme */\n",
       "  --sklearn-color-text-on-default-background: var(--sg-text-color, var(--theme-code-foreground, var(--jp-content-font-color1, black)));\n",
       "  --sklearn-color-background: var(--sg-background-color, var(--theme-background, var(--jp-layout-color0, white)));\n",
       "  --sklearn-color-border-box: var(--sg-text-color, var(--theme-code-foreground, var(--jp-content-font-color1, black)));\n",
       "  --sklearn-color-icon: #696969;\n",
       "\n",
       "  @media (prefers-color-scheme: dark) {\n",
       "    /* Redefinition of color scheme for dark theme */\n",
       "    --sklearn-color-text-on-default-background: var(--sg-text-color, var(--theme-code-foreground, var(--jp-content-font-color1, white)));\n",
       "    --sklearn-color-background: var(--sg-background-color, var(--theme-background, var(--jp-layout-color0, #111)));\n",
       "    --sklearn-color-border-box: var(--sg-text-color, var(--theme-code-foreground, var(--jp-content-font-color1, white)));\n",
       "    --sklearn-color-icon: #878787;\n",
       "  }\n",
       "}\n",
       "\n",
       "#sk-container-id-1 {\n",
       "  color: var(--sklearn-color-text);\n",
       "}\n",
       "\n",
       "#sk-container-id-1 pre {\n",
       "  padding: 0;\n",
       "}\n",
       "\n",
       "#sk-container-id-1 input.sk-hidden--visually {\n",
       "  border: 0;\n",
       "  clip: rect(1px 1px 1px 1px);\n",
       "  clip: rect(1px, 1px, 1px, 1px);\n",
       "  height: 1px;\n",
       "  margin: -1px;\n",
       "  overflow: hidden;\n",
       "  padding: 0;\n",
       "  position: absolute;\n",
       "  width: 1px;\n",
       "}\n",
       "\n",
       "#sk-container-id-1 div.sk-dashed-wrapped {\n",
       "  border: 1px dashed var(--sklearn-color-line);\n",
       "  margin: 0 0.4em 0.5em 0.4em;\n",
       "  box-sizing: border-box;\n",
       "  padding-bottom: 0.4em;\n",
       "  background-color: var(--sklearn-color-background);\n",
       "}\n",
       "\n",
       "#sk-container-id-1 div.sk-container {\n",
       "  /* jupyter's `normalize.less` sets `[hidden] { display: none; }`\n",
       "     but bootstrap.min.css set `[hidden] { display: none !important; }`\n",
       "     so we also need the `!important` here to be able to override the\n",
       "     default hidden behavior on the sphinx rendered scikit-learn.org.\n",
       "     See: https://github.com/scikit-learn/scikit-learn/issues/21755 */\n",
       "  display: inline-block !important;\n",
       "  position: relative;\n",
       "}\n",
       "\n",
       "#sk-container-id-1 div.sk-text-repr-fallback {\n",
       "  display: none;\n",
       "}\n",
       "\n",
       "div.sk-parallel-item,\n",
       "div.sk-serial,\n",
       "div.sk-item {\n",
       "  /* draw centered vertical line to link estimators */\n",
       "  background-image: linear-gradient(var(--sklearn-color-text-on-default-background), var(--sklearn-color-text-on-default-background));\n",
       "  background-size: 2px 100%;\n",
       "  background-repeat: no-repeat;\n",
       "  background-position: center center;\n",
       "}\n",
       "\n",
       "/* Parallel-specific style estimator block */\n",
       "\n",
       "#sk-container-id-1 div.sk-parallel-item::after {\n",
       "  content: \"\";\n",
       "  width: 100%;\n",
       "  border-bottom: 2px solid var(--sklearn-color-text-on-default-background);\n",
       "  flex-grow: 1;\n",
       "}\n",
       "\n",
       "#sk-container-id-1 div.sk-parallel {\n",
       "  display: flex;\n",
       "  align-items: stretch;\n",
       "  justify-content: center;\n",
       "  background-color: var(--sklearn-color-background);\n",
       "  position: relative;\n",
       "}\n",
       "\n",
       "#sk-container-id-1 div.sk-parallel-item {\n",
       "  display: flex;\n",
       "  flex-direction: column;\n",
       "}\n",
       "\n",
       "#sk-container-id-1 div.sk-parallel-item:first-child::after {\n",
       "  align-self: flex-end;\n",
       "  width: 50%;\n",
       "}\n",
       "\n",
       "#sk-container-id-1 div.sk-parallel-item:last-child::after {\n",
       "  align-self: flex-start;\n",
       "  width: 50%;\n",
       "}\n",
       "\n",
       "#sk-container-id-1 div.sk-parallel-item:only-child::after {\n",
       "  width: 0;\n",
       "}\n",
       "\n",
       "/* Serial-specific style estimator block */\n",
       "\n",
       "#sk-container-id-1 div.sk-serial {\n",
       "  display: flex;\n",
       "  flex-direction: column;\n",
       "  align-items: center;\n",
       "  background-color: var(--sklearn-color-background);\n",
       "  padding-right: 1em;\n",
       "  padding-left: 1em;\n",
       "}\n",
       "\n",
       "\n",
       "/* Toggleable style: style used for estimator/Pipeline/ColumnTransformer box that is\n",
       "clickable and can be expanded/collapsed.\n",
       "- Pipeline and ColumnTransformer use this feature and define the default style\n",
       "- Estimators will overwrite some part of the style using the `sk-estimator` class\n",
       "*/\n",
       "\n",
       "/* Pipeline and ColumnTransformer style (default) */\n",
       "\n",
       "#sk-container-id-1 div.sk-toggleable {\n",
       "  /* Default theme specific background. It is overwritten whether we have a\n",
       "  specific estimator or a Pipeline/ColumnTransformer */\n",
       "  background-color: var(--sklearn-color-background);\n",
       "}\n",
       "\n",
       "/* Toggleable label */\n",
       "#sk-container-id-1 label.sk-toggleable__label {\n",
       "  cursor: pointer;\n",
       "  display: flex;\n",
       "  width: 100%;\n",
       "  margin-bottom: 0;\n",
       "  padding: 0.5em;\n",
       "  box-sizing: border-box;\n",
       "  text-align: center;\n",
       "  align-items: start;\n",
       "  justify-content: space-between;\n",
       "  gap: 0.5em;\n",
       "}\n",
       "\n",
       "#sk-container-id-1 label.sk-toggleable__label .caption {\n",
       "  font-size: 0.6rem;\n",
       "  font-weight: lighter;\n",
       "  color: var(--sklearn-color-text-muted);\n",
       "}\n",
       "\n",
       "#sk-container-id-1 label.sk-toggleable__label-arrow:before {\n",
       "  /* Arrow on the left of the label */\n",
       "  content: \"▸\";\n",
       "  float: left;\n",
       "  margin-right: 0.25em;\n",
       "  color: var(--sklearn-color-icon);\n",
       "}\n",
       "\n",
       "#sk-container-id-1 label.sk-toggleable__label-arrow:hover:before {\n",
       "  color: var(--sklearn-color-text);\n",
       "}\n",
       "\n",
       "/* Toggleable content - dropdown */\n",
       "\n",
       "#sk-container-id-1 div.sk-toggleable__content {\n",
       "  max-height: 0;\n",
       "  max-width: 0;\n",
       "  overflow: hidden;\n",
       "  text-align: left;\n",
       "  /* unfitted */\n",
       "  background-color: var(--sklearn-color-unfitted-level-0);\n",
       "}\n",
       "\n",
       "#sk-container-id-1 div.sk-toggleable__content.fitted {\n",
       "  /* fitted */\n",
       "  background-color: var(--sklearn-color-fitted-level-0);\n",
       "}\n",
       "\n",
       "#sk-container-id-1 div.sk-toggleable__content pre {\n",
       "  margin: 0.2em;\n",
       "  border-radius: 0.25em;\n",
       "  color: var(--sklearn-color-text);\n",
       "  /* unfitted */\n",
       "  background-color: var(--sklearn-color-unfitted-level-0);\n",
       "}\n",
       "\n",
       "#sk-container-id-1 div.sk-toggleable__content.fitted pre {\n",
       "  /* unfitted */\n",
       "  background-color: var(--sklearn-color-fitted-level-0);\n",
       "}\n",
       "\n",
       "#sk-container-id-1 input.sk-toggleable__control:checked~div.sk-toggleable__content {\n",
       "  /* Expand drop-down */\n",
       "  max-height: 200px;\n",
       "  max-width: 100%;\n",
       "  overflow: auto;\n",
       "}\n",
       "\n",
       "#sk-container-id-1 input.sk-toggleable__control:checked~label.sk-toggleable__label-arrow:before {\n",
       "  content: \"▾\";\n",
       "}\n",
       "\n",
       "/* Pipeline/ColumnTransformer-specific style */\n",
       "\n",
       "#sk-container-id-1 div.sk-label input.sk-toggleable__control:checked~label.sk-toggleable__label {\n",
       "  color: var(--sklearn-color-text);\n",
       "  background-color: var(--sklearn-color-unfitted-level-2);\n",
       "}\n",
       "\n",
       "#sk-container-id-1 div.sk-label.fitted input.sk-toggleable__control:checked~label.sk-toggleable__label {\n",
       "  background-color: var(--sklearn-color-fitted-level-2);\n",
       "}\n",
       "\n",
       "/* Estimator-specific style */\n",
       "\n",
       "/* Colorize estimator box */\n",
       "#sk-container-id-1 div.sk-estimator input.sk-toggleable__control:checked~label.sk-toggleable__label {\n",
       "  /* unfitted */\n",
       "  background-color: var(--sklearn-color-unfitted-level-2);\n",
       "}\n",
       "\n",
       "#sk-container-id-1 div.sk-estimator.fitted input.sk-toggleable__control:checked~label.sk-toggleable__label {\n",
       "  /* fitted */\n",
       "  background-color: var(--sklearn-color-fitted-level-2);\n",
       "}\n",
       "\n",
       "#sk-container-id-1 div.sk-label label.sk-toggleable__label,\n",
       "#sk-container-id-1 div.sk-label label {\n",
       "  /* The background is the default theme color */\n",
       "  color: var(--sklearn-color-text-on-default-background);\n",
       "}\n",
       "\n",
       "/* On hover, darken the color of the background */\n",
       "#sk-container-id-1 div.sk-label:hover label.sk-toggleable__label {\n",
       "  color: var(--sklearn-color-text);\n",
       "  background-color: var(--sklearn-color-unfitted-level-2);\n",
       "}\n",
       "\n",
       "/* Label box, darken color on hover, fitted */\n",
       "#sk-container-id-1 div.sk-label.fitted:hover label.sk-toggleable__label.fitted {\n",
       "  color: var(--sklearn-color-text);\n",
       "  background-color: var(--sklearn-color-fitted-level-2);\n",
       "}\n",
       "\n",
       "/* Estimator label */\n",
       "\n",
       "#sk-container-id-1 div.sk-label label {\n",
       "  font-family: monospace;\n",
       "  font-weight: bold;\n",
       "  display: inline-block;\n",
       "  line-height: 1.2em;\n",
       "}\n",
       "\n",
       "#sk-container-id-1 div.sk-label-container {\n",
       "  text-align: center;\n",
       "}\n",
       "\n",
       "/* Estimator-specific */\n",
       "#sk-container-id-1 div.sk-estimator {\n",
       "  font-family: monospace;\n",
       "  border: 1px dotted var(--sklearn-color-border-box);\n",
       "  border-radius: 0.25em;\n",
       "  box-sizing: border-box;\n",
       "  margin-bottom: 0.5em;\n",
       "  /* unfitted */\n",
       "  background-color: var(--sklearn-color-unfitted-level-0);\n",
       "}\n",
       "\n",
       "#sk-container-id-1 div.sk-estimator.fitted {\n",
       "  /* fitted */\n",
       "  background-color: var(--sklearn-color-fitted-level-0);\n",
       "}\n",
       "\n",
       "/* on hover */\n",
       "#sk-container-id-1 div.sk-estimator:hover {\n",
       "  /* unfitted */\n",
       "  background-color: var(--sklearn-color-unfitted-level-2);\n",
       "}\n",
       "\n",
       "#sk-container-id-1 div.sk-estimator.fitted:hover {\n",
       "  /* fitted */\n",
       "  background-color: var(--sklearn-color-fitted-level-2);\n",
       "}\n",
       "\n",
       "/* Specification for estimator info (e.g. \"i\" and \"?\") */\n",
       "\n",
       "/* Common style for \"i\" and \"?\" */\n",
       "\n",
       ".sk-estimator-doc-link,\n",
       "a:link.sk-estimator-doc-link,\n",
       "a:visited.sk-estimator-doc-link {\n",
       "  float: right;\n",
       "  font-size: smaller;\n",
       "  line-height: 1em;\n",
       "  font-family: monospace;\n",
       "  background-color: var(--sklearn-color-background);\n",
       "  border-radius: 1em;\n",
       "  height: 1em;\n",
       "  width: 1em;\n",
       "  text-decoration: none !important;\n",
       "  margin-left: 0.5em;\n",
       "  text-align: center;\n",
       "  /* unfitted */\n",
       "  border: var(--sklearn-color-unfitted-level-1) 1pt solid;\n",
       "  color: var(--sklearn-color-unfitted-level-1);\n",
       "}\n",
       "\n",
       ".sk-estimator-doc-link.fitted,\n",
       "a:link.sk-estimator-doc-link.fitted,\n",
       "a:visited.sk-estimator-doc-link.fitted {\n",
       "  /* fitted */\n",
       "  border: var(--sklearn-color-fitted-level-1) 1pt solid;\n",
       "  color: var(--sklearn-color-fitted-level-1);\n",
       "}\n",
       "\n",
       "/* On hover */\n",
       "div.sk-estimator:hover .sk-estimator-doc-link:hover,\n",
       ".sk-estimator-doc-link:hover,\n",
       "div.sk-label-container:hover .sk-estimator-doc-link:hover,\n",
       ".sk-estimator-doc-link:hover {\n",
       "  /* unfitted */\n",
       "  background-color: var(--sklearn-color-unfitted-level-3);\n",
       "  color: var(--sklearn-color-background);\n",
       "  text-decoration: none;\n",
       "}\n",
       "\n",
       "div.sk-estimator.fitted:hover .sk-estimator-doc-link.fitted:hover,\n",
       ".sk-estimator-doc-link.fitted:hover,\n",
       "div.sk-label-container:hover .sk-estimator-doc-link.fitted:hover,\n",
       ".sk-estimator-doc-link.fitted:hover {\n",
       "  /* fitted */\n",
       "  background-color: var(--sklearn-color-fitted-level-3);\n",
       "  color: var(--sklearn-color-background);\n",
       "  text-decoration: none;\n",
       "}\n",
       "\n",
       "/* Span, style for the box shown on hovering the info icon */\n",
       ".sk-estimator-doc-link span {\n",
       "  display: none;\n",
       "  z-index: 9999;\n",
       "  position: relative;\n",
       "  font-weight: normal;\n",
       "  right: .2ex;\n",
       "  padding: .5ex;\n",
       "  margin: .5ex;\n",
       "  width: min-content;\n",
       "  min-width: 20ex;\n",
       "  max-width: 50ex;\n",
       "  color: var(--sklearn-color-text);\n",
       "  box-shadow: 2pt 2pt 4pt #999;\n",
       "  /* unfitted */\n",
       "  background: var(--sklearn-color-unfitted-level-0);\n",
       "  border: .5pt solid var(--sklearn-color-unfitted-level-3);\n",
       "}\n",
       "\n",
       ".sk-estimator-doc-link.fitted span {\n",
       "  /* fitted */\n",
       "  background: var(--sklearn-color-fitted-level-0);\n",
       "  border: var(--sklearn-color-fitted-level-3);\n",
       "}\n",
       "\n",
       ".sk-estimator-doc-link:hover span {\n",
       "  display: block;\n",
       "}\n",
       "\n",
       "/* \"?\"-specific style due to the `<a>` HTML tag */\n",
       "\n",
       "#sk-container-id-1 a.estimator_doc_link {\n",
       "  float: right;\n",
       "  font-size: 1rem;\n",
       "  line-height: 1em;\n",
       "  font-family: monospace;\n",
       "  background-color: var(--sklearn-color-background);\n",
       "  border-radius: 1rem;\n",
       "  height: 1rem;\n",
       "  width: 1rem;\n",
       "  text-decoration: none;\n",
       "  /* unfitted */\n",
       "  color: var(--sklearn-color-unfitted-level-1);\n",
       "  border: var(--sklearn-color-unfitted-level-1) 1pt solid;\n",
       "}\n",
       "\n",
       "#sk-container-id-1 a.estimator_doc_link.fitted {\n",
       "  /* fitted */\n",
       "  border: var(--sklearn-color-fitted-level-1) 1pt solid;\n",
       "  color: var(--sklearn-color-fitted-level-1);\n",
       "}\n",
       "\n",
       "/* On hover */\n",
       "#sk-container-id-1 a.estimator_doc_link:hover {\n",
       "  /* unfitted */\n",
       "  background-color: var(--sklearn-color-unfitted-level-3);\n",
       "  color: var(--sklearn-color-background);\n",
       "  text-decoration: none;\n",
       "}\n",
       "\n",
       "#sk-container-id-1 a.estimator_doc_link.fitted:hover {\n",
       "  /* fitted */\n",
       "  background-color: var(--sklearn-color-fitted-level-3);\n",
       "}\n",
       "</style><div id=\"sk-container-id-1\" class=\"sk-top-container\"><div class=\"sk-text-repr-fallback\"><pre>Pipeline(steps=[(&#x27;vect&#x27;, CountVectorizer()), (&#x27;tfidf&#x27;, TfidfTransformer()),\n",
       "                (&#x27;clf&#x27;, LinearSVC())])</pre><b>In a Jupyter environment, please rerun this cell to show the HTML representation or trust the notebook. <br />On GitHub, the HTML representation is unable to render, please try loading this page with nbviewer.org.</b></div><div class=\"sk-container\" hidden><div class=\"sk-item sk-dashed-wrapped\"><div class=\"sk-label-container\"><div class=\"sk-label fitted sk-toggleable\"><input class=\"sk-toggleable__control sk-hidden--visually\" id=\"sk-estimator-id-1\" type=\"checkbox\" ><label for=\"sk-estimator-id-1\" class=\"sk-toggleable__label fitted sk-toggleable__label-arrow\"><div><div>Pipeline</div></div><div><a class=\"sk-estimator-doc-link fitted\" rel=\"noreferrer\" target=\"_blank\" href=\"https://scikit-learn.org/1.6/modules/generated/sklearn.pipeline.Pipeline.html\">?<span>Documentation for Pipeline</span></a><span class=\"sk-estimator-doc-link fitted\">i<span>Fitted</span></span></div></label><div class=\"sk-toggleable__content fitted\"><pre>Pipeline(steps=[(&#x27;vect&#x27;, CountVectorizer()), (&#x27;tfidf&#x27;, TfidfTransformer()),\n",
       "                (&#x27;clf&#x27;, LinearSVC())])</pre></div> </div></div><div class=\"sk-serial\"><div class=\"sk-item\"><div class=\"sk-estimator fitted sk-toggleable\"><input class=\"sk-toggleable__control sk-hidden--visually\" id=\"sk-estimator-id-2\" type=\"checkbox\" ><label for=\"sk-estimator-id-2\" class=\"sk-toggleable__label fitted sk-toggleable__label-arrow\"><div><div>CountVectorizer</div></div><div><a class=\"sk-estimator-doc-link fitted\" rel=\"noreferrer\" target=\"_blank\" href=\"https://scikit-learn.org/1.6/modules/generated/sklearn.feature_extraction.text.CountVectorizer.html\">?<span>Documentation for CountVectorizer</span></a></div></label><div class=\"sk-toggleable__content fitted\"><pre>CountVectorizer()</pre></div> </div></div><div class=\"sk-item\"><div class=\"sk-estimator fitted sk-toggleable\"><input class=\"sk-toggleable__control sk-hidden--visually\" id=\"sk-estimator-id-3\" type=\"checkbox\" ><label for=\"sk-estimator-id-3\" class=\"sk-toggleable__label fitted sk-toggleable__label-arrow\"><div><div>TfidfTransformer</div></div><div><a class=\"sk-estimator-doc-link fitted\" rel=\"noreferrer\" target=\"_blank\" href=\"https://scikit-learn.org/1.6/modules/generated/sklearn.feature_extraction.text.TfidfTransformer.html\">?<span>Documentation for TfidfTransformer</span></a></div></label><div class=\"sk-toggleable__content fitted\"><pre>TfidfTransformer()</pre></div> </div></div><div class=\"sk-item\"><div class=\"sk-estimator fitted sk-toggleable\"><input class=\"sk-toggleable__control sk-hidden--visually\" id=\"sk-estimator-id-4\" type=\"checkbox\" ><label for=\"sk-estimator-id-4\" class=\"sk-toggleable__label fitted sk-toggleable__label-arrow\"><div><div>LinearSVC</div></div><div><a class=\"sk-estimator-doc-link fitted\" rel=\"noreferrer\" target=\"_blank\" href=\"https://scikit-learn.org/1.6/modules/generated/sklearn.svm.LinearSVC.html\">?<span>Documentation for LinearSVC</span></a></div></label><div class=\"sk-toggleable__content fitted\"><pre>LinearSVC()</pre></div> </div></div></div></div></div></div>"
      ],
      "text/plain": [
       "Pipeline(steps=[('vect', CountVectorizer()), ('tfidf', TfidfTransformer()),\n",
       "                ('clf', LinearSVC())])"
      ]
     },
     "execution_count": 14,
     "metadata": {},
     "output_type": "execute_result"
    }
   ],
   "source": [
    "from sklearn.pipeline import Pipeline\n",
    "from sklearn.feature_extraction.text import CountVectorizer, TfidfTransformer\n",
    "from sklearn.svm import LinearSVC\n",
    "from imblearn.under_sampling import RandomUnderSampler\n",
    "\n",
    "# Pipeline completo (inclui vetorização)\n",
    "pipeline = Pipeline([\n",
    "    ('vect', CountVectorizer()),\n",
    "    ('tfidf', TfidfTransformer()),\n",
    "    ('clf', LinearSVC())\n",
    "])\n",
    "\n",
    "# Balanceamento APENAS no treino\n",
    "undersampler = RandomUnderSampler(random_state=42)\n",
    "X_train_resampled, y_train_resampled = undersampler.fit_resample(X_train.to_frame(), y_train)\n",
    "X_train_resampled = X_train_resampled.squeeze()  # volta para Series\n",
    "\n",
    "# Treinamento do pipeline\n",
    "pipeline.fit(X_train_resampled, y_train_resampled)"
   ]
  },
  {
   "cell_type": "code",
   "execution_count": 15,
   "metadata": {},
   "outputs": [],
   "source": [
    "# Realiza a predição no conjunto de teste\n",
    "y_pred = pipeline.predict(X_test)"
   ]
  },
  {
   "cell_type": "markdown",
   "metadata": {
    "id": "LBqD-A-4yiM7"
   },
   "source": [
    "**LIME**"
   ]
  },
  {
   "cell_type": "code",
   "execution_count": 16,
   "metadata": {
    "executionInfo": {
     "elapsed": 16,
     "status": "ok",
     "timestamp": 1746235663653,
     "user": {
      "displayName": "Luirys Nascimento",
      "userId": "04569512085598904612"
     },
     "user_tz": 180
    },
    "id": "FrN_GbI6rQkG"
   },
   "outputs": [],
   "source": [
    "# Assuming 'text' is the column name containing the text data and 'sentiment' is the target column\n",
    "X = df['text']\n",
    "y = df['sentiment']"
   ]
  },
  {
   "cell_type": "code",
   "execution_count": 17,
   "metadata": {
    "executionInfo": {
     "elapsed": 48,
     "status": "ok",
     "timestamp": 1746235663713,
     "user": {
      "displayName": "Luirys Nascimento",
      "userId": "04569512085598904612"
     },
     "user_tz": 180
    },
    "id": "EUQm2bKfvLIv"
   },
   "outputs": [],
   "source": [
    "#X_train, X_test, y_train, y_test = train_test_split(df[\"clean_text\"], df[\"sentiment\"], test_size=0.2, random_state=42)"
   ]
  },
  {
   "cell_type": "code",
   "execution_count": 18,
   "metadata": {
    "colab": {
     "base_uri": "https://localhost:8080/",
     "height": 403
    },
    "executionInfo": {
     "elapsed": 1582,
     "status": "ok",
     "timestamp": 1746235665251,
     "user": {
      "displayName": "Luirys Nascimento",
      "userId": "04569512085598904612"
     },
     "user_tz": 180
    },
    "id": "a40-Cex4vQC4",
    "outputId": "b26a05c0-aacd-464d-d0ad-94df5377dc95"
   },
   "outputs": [
    {
     "name": "stdout",
     "output_type": "stream",
     "text": [
      "Número da linha no X_test: 499\n",
      "Original text:\n",
      "preliminary estimation technology park measure square meter\n",
      "Real class: neutral\n",
      "Classe predita: neutral\n"
     ]
    }
   ],
   "source": [
    "from IPython.display import display\n",
    "from lime.lime_text import LimeTextExplainer\n",
    "\n",
    "# Criando o explainer\n",
    "explainer = LimeTextExplainer(class_names=list(pipeline.classes_))\n",
    "\n",
    "def predict_proba(texts):\n",
    "    # LIME espera probabilidades, mas LinearSVC não tem predict_proba.\n",
    "    # Usamos decision_function e normalizamos para somar 1 (softmax-like).\n",
    "    scores = pipeline.decision_function(texts)\n",
    "    import numpy as np\n",
    "    # Se for 1D (binary), transforma em 2D\n",
    "    if len(scores.shape) == 1:\n",
    "        scores = np.vstack([-scores, scores]).T\n",
    "    # Softmax para converter scores em \"probabilidades\"\n",
    "    exp_scores = np.exp(scores - np.max(scores, axis=1, keepdims=True))\n",
    "    probs = exp_scores / exp_scores.sum(axis=1, keepdims=True)\n",
    "    return probs\n",
    "\n",
    "# Solicita ao usuário o número da linha do exemplo\n",
    "idx = int(input(f\"Digite o número da linha (0 a {len(X_test)-1}): \"))\n",
    "sample_text = X_test.iloc[idx]\n",
    "sample_label = y_test.iloc[idx]\n",
    "\n",
    "# Predição da classe para o texto selecionado\n",
    "pred_class_name = pipeline.predict([sample_text])[0]\n",
    "\n",
    "print(f\"Número da linha no X_test: {idx}\")\n",
    "print(f\"Original text:\\n{sample_text}\")\n",
    "print(f\"Real class: {sample_label}\")\n",
    "print(f\"Classe predita: {pred_class_name}\")\n",
    "\n",
    "\n",
    "explanation = explainer.explain_instance(\n",
    "    sample_text,\n",
    "    predict_proba,\n",
    "    num_features=10\n",
    ")"
   ]
  },
  {
   "cell_type": "code",
   "execution_count": 19,
   "metadata": {
    "colab": {
     "base_uri": "https://localhost:8080/"
    },
    "executionInfo": {
     "elapsed": 12,
     "status": "ok",
     "timestamp": 1746235665292,
     "user": {
      "displayName": "Luirys Nascimento",
      "userId": "04569512085598904612"
     },
     "user_tz": 180
    },
    "id": "JgsfRg_bxIHg",
    "outputId": "58511cf8-933c-4dad-f542-e8e0c149be8f"
   },
   "outputs": [
    {
     "name": "stdout",
     "output_type": "stream",
     "text": [
      "Palavras mais importantes e seus pesos:\n",
      "square: 0.0992\n",
      "park: -0.0549\n",
      "technology: -0.0516\n",
      "estimation: 0.0406\n",
      "preliminary: 0.0370\n",
      "meter: 0.0312\n",
      "measure: 0.0085\n"
     ]
    }
   ],
   "source": [
    "import matplotlib.pyplot as plt\n",
    "\n",
    "# Obtém as palavras mais importantes e seus pesos\n",
    "lime_features = explanation.as_list()\n",
    "\n",
    "# Exibe cada palavra com seu impacto na predição\n",
    "print(\"Palavras mais importantes e seus pesos:\")\n",
    "for word, weight in lime_features:\n",
    "    print(f\"{word}: {weight:.4f}\")\n"
   ]
  },
  {
   "cell_type": "code",
   "execution_count": 20,
   "metadata": {
    "colab": {
     "base_uri": "https://localhost:8080/",
     "height": 350
    },
    "executionInfo": {
     "elapsed": 6,
     "status": "ok",
     "timestamp": 1746235665299,
     "user": {
      "displayName": "Luirys Nascimento",
      "userId": "04569512085598904612"
     },
     "user_tz": 180
    },
    "id": "AlTcYvGSxXuq",
    "outputId": "13ad35e0-d92e-40ec-fcde-8f03a79270f4"
   },
   "outputs": [
    {
     "data": {
      "image/png": "[encoded data removed]",
      "text/plain": [
       "<Figure size 1000x500 with 1 Axes>"
      ]
     },
     "metadata": {},
     "output_type": "display_data"
    }
   ],
   "source": [
    "# Separar palavras e pesos\n",
    "words, weights = zip(*lime_features)\n",
    "\n",
    "# Criar gráfico de barras\n",
    "plt.figure(figsize=(10, 5))\n",
    "plt.barh(words, weights, color=\"blue\")\n",
    "plt.xlabel(\"Weight of the word in the decision\")\n",
    "plt.ylabel(\"Words\")\n",
    "plt.title(\"Most important words in the explanation of LIME\")\n",
    "plt.gca().invert_yaxis()  # Inverter para mostrar a palavra mais importante no topo\n",
    "plt.show()"
   ]
  },
  {
   "cell_type": "code",
   "execution_count": 21,
   "metadata": {
    "colab": {
     "base_uri": "https://localhost:8080/",
     "height": 300
    },
    "executionInfo": {
     "elapsed": 8,
     "status": "ok",
     "timestamp": 1746235665309,
     "user": {
      "displayName": "Luirys Nascimento",
      "userId": "04569512085598904612"
     },
     "user_tz": 180
    },
    "id": "uQTO7QWRwWib",
    "outputId": "37a1840e-b72d-4184-a9e7-ef707efbe703"
   },
   "outputs": [
    {
     "data": {
      "text/html": [
       "<div>\n",
       "<style scoped>\n",
       "    .dataframe tbody tr th:only-of-type {\n",
       "        vertical-align: middle;\n",
       "    }\n",
       "\n",
       "    .dataframe tbody tr th {\n",
       "        vertical-align: top;\n",
       "    }\n",
       "\n",
       "    .dataframe thead th {\n",
       "        text-align: right;\n",
       "    }\n",
       "</style>\n",
       "<table border=\"1\" class=\"dataframe\">\n",
       "  <thead>\n",
       "    <tr style=\"text-align: right;\">\n",
       "      <th></th>\n",
       "      <th>Word</th>\n",
       "      <th>Impact</th>\n",
       "    </tr>\n",
       "  </thead>\n",
       "  <tbody>\n",
       "    <tr>\n",
       "      <th>0</th>\n",
       "      <td>square</td>\n",
       "      <td>0.099243</td>\n",
       "    </tr>\n",
       "    <tr>\n",
       "      <th>3</th>\n",
       "      <td>estimation</td>\n",
       "      <td>0.040554</td>\n",
       "    </tr>\n",
       "    <tr>\n",
       "      <th>4</th>\n",
       "      <td>preliminary</td>\n",
       "      <td>0.036985</td>\n",
       "    </tr>\n",
       "    <tr>\n",
       "      <th>5</th>\n",
       "      <td>meter</td>\n",
       "      <td>0.031174</td>\n",
       "    </tr>\n",
       "    <tr>\n",
       "      <th>6</th>\n",
       "      <td>measure</td>\n",
       "      <td>0.008543</td>\n",
       "    </tr>\n",
       "    <tr>\n",
       "      <th>2</th>\n",
       "      <td>technology</td>\n",
       "      <td>-0.051552</td>\n",
       "    </tr>\n",
       "    <tr>\n",
       "      <th>1</th>\n",
       "      <td>park</td>\n",
       "      <td>-0.054860</td>\n",
       "    </tr>\n",
       "  </tbody>\n",
       "</table>\n",
       "</div>"
      ],
      "text/plain": [
       "          Word    Impact\n",
       "0       square  0.099243\n",
       "3   estimation  0.040554\n",
       "4  preliminary  0.036985\n",
       "5        meter  0.031174\n",
       "6      measure  0.008543\n",
       "2   technology -0.051552\n",
       "1         park -0.054860"
      ]
     },
     "metadata": {},
     "output_type": "display_data"
    }
   ],
   "source": [
    "explanation_list = explanation.as_list()\n",
    "lime_df = pd.DataFrame(explanation_list, columns=[\"Word\", \"Impact\"])\n",
    "\n",
    "# Ordenar por impacto\n",
    "lime_df = lime_df.sort_values(by=\"Impact\", ascending=False)\n",
    "\n",
    "display(lime_df.head(20))  # Exibir as 20 palavras mais impactantes"
   ]
  },
  {
   "cell_type": "code",
   "execution_count": 22,
   "metadata": {
    "colab": {
     "base_uri": "https://localhost:8080/",
     "height": 489
    },
    "executionInfo": {
     "elapsed": 12,
     "status": "ok",
     "timestamp": 1746235665323,
     "user": {
      "displayName": "Luirys Nascimento",
      "userId": "04569512085598904612"
     },
     "user_tz": 180
    },
    "id": "II56BCJqw1Wa",
    "outputId": "b2198381-95a4-4437-a391-545dc0e432bf"
   },
   "outputs": [
    {
     "data": {
      "text/plain": [
       "<Figure size 1000x600 with 0 Axes>"
      ]
     },
     "metadata": {},
     "output_type": "display_data"
    },
    {
     "data": {
      "image/png": "[encoded data removed]",
      "text/plain": [
       "<Figure size 640x480 with 1 Axes>"
      ]
     },
     "metadata": {},
     "output_type": "display_data"
    }
   ],
   "source": [
    "import matplotlib.pyplot as plt\n",
    "\n",
    "plt.figure(figsize=(10, 6))\n",
    "lime_df.plot(kind=\"barh\", x=\"Word\", y=\"Impact\", color=\"skyblue\", legend=False)\n",
    "plt.xlabel(\"Peso da Palavra\")\n",
    "plt.ylabel(\"Palavra\")\n",
    "plt.title(\"Impacto das Palavras na Predição do Modelo\")\n",
    "plt.gca().invert_yaxis()  # Inverte o eixo para as palavras mais importantes ficarem no topo\n",
    "plt.show()"
   ]
  },
  {
   "cell_type": "code",
   "execution_count": 23,
   "metadata": {
    "colab": {
     "base_uri": "https://localhost:8080/",
     "height": 560
    },
    "executionInfo": {
     "elapsed": 98,
     "status": "ok",
     "timestamp": 1746235665423,
     "user": {
      "displayName": "Luirys Nascimento",
      "userId": "04569512085598904612"
     },
     "user_tz": 180
    },
    "id": "fzZnBiNoZROQ",
    "outputId": "3709afc4-aff3-439b-a988-b4008e023838"
   },
   "outputs": [
    {
     "data": {
      "image/png": "[encoded data removed]",
      "text/plain": [
       "<Figure size 800x600 with 2 Axes>"
      ]
     },
     "metadata": {},
     "output_type": "display_data"
    }
   ],
   "source": [
    "# Plot the confusion matrix\n",
    "cm = confusion_matrix(y_test, y_pred)\n",
    "plt.figure(figsize=(8, 6))\n",
    "sns.heatmap(cm, annot=True, fmt=\"d\", cmap=\"Blues\",\n",
    "            xticklabels=pipeline.classes_, yticklabels=pipeline.classes_)\n",
    "plt.xlabel(\"Predicted Labels\")\n",
    "plt.ylabel(\"True Labels\")\n",
    "plt.title(\"Confusion Matrix\")\n",
    "plt.show()\n"
   ]
  },
  {
   "cell_type": "markdown",
   "metadata": {
    "id": "c55JVrlwyOZh"
   },
   "source": [
    "**Métricas**"
   ]
  },
  {
   "cell_type": "code",
   "execution_count": 24,
   "metadata": {
    "colab": {
     "base_uri": "https://localhost:8080/"
    },
    "executionInfo": {
     "elapsed": 43,
     "status": "ok",
     "timestamp": 1746235665467,
     "user": {
      "displayName": "Luirys Nascimento",
      "userId": "04569512085598904612"
     },
     "user_tz": 180
    },
    "id": "9gABboAKyRP4",
    "outputId": "cec0c545-0c36-49c0-cdf7-850d01537509"
   },
   "outputs": [
    {
     "name": "stdout",
     "output_type": "stream",
     "text": [
      "Acuraccy: 0.6784\n",
      "Precision: 0.7100\n",
      "Recall: 0.6784\n",
      "F1-Score: 0.6869\n"
     ]
    }
   ],
   "source": [
    "from sklearn.metrics import accuracy_score, precision_score, recall_score, f1_score # Import necessary metrics\n",
    "\n",
    "accuracy = accuracy_score(y_test, y_pred)\n",
    "precision = precision_score(y_test, y_pred, average='weighted')  # Usando 'weighted' para classes múltiplas\n",
    "recall = recall_score(y_test, y_pred, average='weighted')\n",
    "f1 = f1_score(y_test, y_pred, average='weighted')\n",
    "\n",
    "print(f\"Acuraccy: {accuracy:.4f}\")\n",
    "print(f\"Precision: {precision:.4f}\")\n",
    "print(f\"Recall: {recall:.4f}\")\n",
    "print(f\"F1-Score: {f1:.4f}\")"
   ]
  },
  {
   "cell_type": "markdown",
   "metadata": {
    "id": "J8L2gWLKorrO"
   },
   "source": [
    "**Attention Vizualization**"
   ]
  },
  {
   "cell_type": "code",
   "execution_count": 25,
   "metadata": {
    "colab": {
     "base_uri": "https://localhost:8080/"
    },
    "executionInfo": {
     "elapsed": 30,
     "status": "ok",
     "timestamp": 1746235665498,
     "user": {
      "displayName": "Luirys Nascimento",
      "userId": "04569512085598904612"
     },
     "user_tz": 180
    },
    "id": "Zt03qh_pjWt7",
    "outputId": "c1c9ff4a-0ff6-4160-870e-01b2b45f0171"
   },
   "outputs": [
    {
     "name": "stdout",
     "output_type": "stream",
     "text": [
      "['negative' 'neutral' 'positive']\n"
     ]
    }
   ],
   "source": [
    "print(pipeline.classes_)"
   ]
  },
  {
   "cell_type": "code",
   "execution_count": 26,
   "metadata": {},
   "outputs": [
    {
     "name": "stdout",
     "output_type": "stream",
     "text": [
      "Palavras do exemplo e seus pesos na decisão da classe prevista:\n",
      "          Feature    Weight\n",
      "3512       square  0.587180\n",
      "1188   estimation  0.254300\n",
      "2865  preliminary  0.251252\n",
      "2296        meter  0.217478\n",
      "2259      measure  0.199807\n",
      "2685         park -0.172924\n",
      "3740   technology -0.275615\n"
     ]
    },
    {
     "data": {
      "image/png": "[encoded data removed]",
      "text/plain": [
       "<Figure size 1000x500 with 1 Axes>"
      ]
     },
     "metadata": {},
     "output_type": "display_data"
    }
   ],
   "source": [
    "# Obter os nomes das features do CountVectorizer\n",
    "feature_names = pipeline.named_steps['vect'].get_feature_names_out()\n",
    "\n",
    "# Obter os coeficientes do SVM para a classe prevista\n",
    "classe_prevista = pipeline.predict([sample_text])[0]\n",
    "classe_idx = list(pipeline.classes_).index(classe_prevista)\n",
    "pesos = pipeline.named_steps['clf'].coef_[classe_idx]\n",
    "\n",
    "# Criar DataFrame com as features e pesos\n",
    "importancias = pd.DataFrame({'Feature': feature_names, 'Weight': pesos})\n",
    "\n",
    "# Marcar as palavras do exemplo\n",
    "palavras_exemplo = set(sample_text.split())\n",
    "importancias['No_Exemplo'] = importancias['Feature'].apply(lambda x: x in palavras_exemplo)\n",
    "\n",
    "# Visualizar as palavras do exemplo e seus pesos\n",
    "importancias_exemplo = importancias[importancias['No_Exemplo']].sort_values(by='Weight', ascending=False)\n",
    "\n",
    "print(\"Palavras do exemplo e seus pesos na decisão da classe prevista:\")\n",
    "print(importancias_exemplo[['Feature', 'Weight']])\n",
    "\n",
    "# Plotar as palavras do exemplo\n",
    "plt.figure(figsize=(10, 5))\n",
    "plt.barh(importancias_exemplo['Feature'], importancias_exemplo['Weight'], color=\"red\")\n",
    "plt.xlabel(\"Peso da Palavra na decisão\")\n",
    "plt.ylabel(\"Palavra\")\n",
    "plt.title(\"Palavras do exemplo e sua importância para a classe prevista\")\n",
    "plt.gca().invert_yaxis()\n",
    "plt.show()"
   ]
  },
  {
   "cell_type": "code",
   "execution_count": 27,
   "metadata": {
    "colab": {
     "base_uri": "https://localhost:8080/"
    },
    "executionInfo": {
     "elapsed": 13,
     "status": "ok",
     "timestamp": 1746235665510,
     "user": {
      "displayName": "Luirys Nascimento",
      "userId": "04569512085598904612"
     },
     "user_tz": 180
    },
    "id": "nsWro9KcpoPE",
    "outputId": "f3dae533-07dd-4e32-cf3f-9ab2bacb7cdd"
   },
   "outputs": [
    {
     "name": "stdout",
     "output_type": "stream",
     "text": [
      "          Feature    Weight\n",
      "895     decreased  3.759595\n",
      "1299         fell  2.957072\n",
      "3142       result  2.016619\n",
      "1036      dropped  2.006689\n",
      "891      declined  1.944949\n",
      "2150        lower  1.875735\n",
      "851           cut  1.782018\n",
      "1557         half  1.723158\n",
      "3436      slipped  1.521669\n",
      "1272         fall  1.494044\n",
      "3523        staff  1.491266\n",
      "2437     negative  1.463855\n",
      "2040       layoff  1.421760\n",
      "4103         weak  1.330235\n",
      "4161       worker  1.283105\n",
      "4121         went  1.261137\n",
      "1043          due  1.250135\n",
      "508      canceled  1.248212\n",
      "3766  temporarily  1.233639\n",
      "894      decrease  1.212158\n"
     ]
    }
   ],
   "source": [
    "# Assumindo que 'pipeline' é o pipeline do SVM\n",
    "pesos = pipeline.named_steps['clf'].coef_[0]  # Obter os pesos do SVM\n",
    "\n",
    "# Obter os nomes das features\n",
    "nomes_das_features = pipeline.named_steps['vect'].get_feature_names_out()\n",
    "\n",
    "# Criar um DataFrame para visualizar os pesos\n",
    "importancias_das_features = pd.DataFrame({'Feature': nomes_das_features, 'Weight': pesos})\n",
    "importancias_das_features = importancias_das_features.sort_values(by='Weight', ascending=False)\n",
    "\n",
    "print(importancias_das_features.head(20))  # Exibir as 20 features mais importantes"
   ]
  },
  {
   "cell_type": "code",
   "execution_count": 28,
   "metadata": {
    "colab": {
     "base_uri": "https://localhost:8080/",
     "height": 352
    },
    "executionInfo": {
     "elapsed": 461,
     "status": "ok",
     "timestamp": 1746235665972,
     "user": {
      "displayName": "Luirys Nascimento",
      "userId": "04569512085598904612"
     },
     "user_tz": 180
    },
    "id": "6L_yJE3OjgB9",
    "outputId": "cbc3ca33-59e8-4b92-b80d-02b0c012e01d"
   },
   "outputs": [
    {
     "data": {
      "image/png": "[encoded data removed]",
      "text/plain": [
       "<Figure size 1000x500 with 1 Axes>"
      ]
     },
     "metadata": {},
     "output_type": "display_data"
    }
   ],
   "source": [
    "plt.figure(figsize=(10, 5))\n",
    "plt.barh(importancias_das_features['Feature'][:20], importancias_das_features['Weight'][:20], color=\"blue\")\n",
    "plt.xlabel(\"Weight of Feature in the decision\")\n",
    "plt.ylabel(\"Features\")\n",
    "plt.title(\"Most important 'Negative' features in SVM decision\")\n",
    "plt.gca().invert_yaxis()  # Inverter para mostrar a feature mais importante no topo\n",
    "plt.show()"
   ]
  },
  {
   "cell_type": "code",
   "execution_count": 29,
   "metadata": {
    "colab": {
     "base_uri": "https://localhost:8080/"
    },
    "executionInfo": {
     "elapsed": 45,
     "status": "ok",
     "timestamp": 1746235666013,
     "user": {
      "displayName": "Luirys Nascimento",
      "userId": "04569512085598904612"
     },
     "user_tz": 180
    },
    "id": "hwDtb_Loji9S",
    "outputId": "e9f9ba3a-5669-4869-ec73-c229fef4907e"
   },
   "outputs": [
    {
     "name": "stdout",
     "output_type": "stream",
     "text": [
      "            Feature    Weight\n",
      "198   approximately  1.515556\n",
      "2877      president  1.310005\n",
      "4024          value  1.191027\n",
      "2663             oy  1.188684\n",
      "1722       includes  1.186998\n",
      "2551          offer  1.149799\n",
      "27         acquired  1.127527\n",
      "2206    manufacture  1.109220\n",
      "3124       research  1.060655\n",
      "978       disclosed  1.046994\n",
      "3269      scheduled  1.036546\n",
      "2571           olvi  1.031600\n",
      "1394      following  1.026795\n",
      "280       available  1.022951\n",
      "1476        gearing  1.009453\n",
      "1594  headquartered  1.004238\n",
      "977        disclose  1.002575\n",
      "874            date  0.978634\n",
      "793            corp  0.970150\n",
      "907       delivered  0.969764\n"
     ]
    }
   ],
   "source": [
    "# Assumindo que 'pipeline' é o pipeline do SVM\n",
    "pesos = pipeline.named_steps['clf'].coef_[1]  # Obter os pesos do SVM\n",
    "\n",
    "# Obter os nomes das features\n",
    "nomes_das_features = pipeline.named_steps['vect'].get_feature_names_out()\n",
    "\n",
    "# Criar um DataFrame para visualizar os pesos\n",
    "importancias_das_features = pd.DataFrame({'Feature': nomes_das_features, 'Weight': pesos})\n",
    "importancias_das_features = importancias_das_features.sort_values(by='Weight', ascending=False)\n",
    "\n",
    "print(importancias_das_features.head(20))  # Exibir as 20 features mais importantes"
   ]
  },
  {
   "cell_type": "code",
   "execution_count": 30,
   "metadata": {
    "colab": {
     "base_uri": "https://localhost:8080/",
     "height": 344
    },
    "executionInfo": {
     "elapsed": 421,
     "status": "ok",
     "timestamp": 1746235666450,
     "user": {
      "displayName": "Luirys Nascimento",
      "userId": "04569512085598904612"
     },
     "user_tz": 180
    },
    "id": "ckZUAzYYjoOE",
    "outputId": "5c220cd7-6609-4386-e9f1-dde28df6e7a5"
   },
   "outputs": [
    {
     "data": {
      "image/png": "[encoded data removed]",
      "text/plain": [
       "<Figure size 1000x500 with 1 Axes>"
      ]
     },
     "metadata": {},
     "output_type": "display_data"
    }
   ],
   "source": [
    "plt.figure(figsize=(10, 5))\n",
    "plt.barh(importancias_das_features['Feature'][:20], importancias_das_features['Weight'][:20], color=\"blue\")\n",
    "plt.xlabel(\"Weight of Feature in the decision\")\n",
    "plt.ylabel(\"Features\")\n",
    "plt.title(\"Most important 'Neutral' features in SVM decision\")\n",
    "plt.gca().invert_yaxis()  # Inverter para mostrar a feature mais importante no topo\n",
    "plt.show()"
   ]
  },
  {
   "cell_type": "code",
   "execution_count": 31,
   "metadata": {
    "colab": {
     "base_uri": "https://localhost:8080/"
    },
    "executionInfo": {
     "elapsed": 47,
     "status": "ok",
     "timestamp": 1746235666503,
     "user": {
      "displayName": "Luirys Nascimento",
      "userId": "04569512085598904612"
     },
     "user_tz": 180
    },
    "id": "h2v5eIz7jqBd",
    "outputId": "6c407756-5ab8-4d34-e5b2-39988221d829"
   },
   "outputs": [
    {
     "name": "stdout",
     "output_type": "stream",
     "text": [
      "          Feature    Weight\n",
      "3192         rose  2.742412\n",
      "1728    increased  2.355594\n",
      "3394       signed  2.110026\n",
      "1528         grew  2.084118\n",
      "1709     improved  2.005987\n",
      "2838     positive  1.991164\n",
      "1727     increase  1.988872\n",
      "1541       growth  1.524758\n",
      "1509         good  1.464077\n",
      "3020        reach  1.333363\n",
      "1227       expand  1.325952\n",
      "2943      provide  1.276784\n",
      "1578        happy  1.269572\n",
      "102           aim  1.262404\n",
      "3560        still  1.218088\n",
      "1710  improvement  1.213591\n",
      "1230    expansion  1.165887\n",
      "2045      leading  1.164359\n",
      "1229      expands  1.157062\n",
      "904     delighted  1.156316\n"
     ]
    }
   ],
   "source": [
    "# Assumindo que 'pipeline' é o pipeline do SVM\n",
    "pesos = pipeline.named_steps['clf'].coef_[2]  # Obter os pesos do SVM\n",
    "\n",
    "# Obter os nomes das features\n",
    "nomes_das_features = pipeline.named_steps['vect'].get_feature_names_out()\n",
    "\n",
    "# Criar um DataFrame para visualizar os pesos\n",
    "import pandas as pd\n",
    "importancias_das_features = pd.DataFrame({'Feature': nomes_das_features, 'Weight': pesos})\n",
    "importancias_das_features = importancias_das_features.sort_values(by='Weight', ascending=False)\n",
    "\n",
    "print(importancias_das_features.head(20))  # Exibir as 20 features mais importantes"
   ]
  },
  {
   "cell_type": "code",
   "execution_count": 32,
   "metadata": {
    "colab": {
     "base_uri": "https://localhost:8080/",
     "height": 347
    },
    "executionInfo": {
     "elapsed": 624,
     "status": "ok",
     "timestamp": 1746235731436,
     "user": {
      "displayName": "Luirys Nascimento",
      "userId": "04569512085598904612"
     },
     "user_tz": 180
    },
    "id": "Baa5MnycjuZC",
    "outputId": "948802df-013c-4e1f-e13b-44574e2fa90b"
   },
   "outputs": [
    {
     "data": {
      "image/png": "[encoded data removed]",
      "text/plain": [
       "<Figure size 1000x500 with 1 Axes>"
      ]
     },
     "metadata": {},
     "output_type": "display_data"
    }
   ],
   "source": [
    "plt.figure(figsize=(10, 5))\n",
    "plt.barh(importancias_das_features['Feature'][:20], importancias_das_features['Weight'][:20], color=\"blue\")\n",
    "plt.xlabel(\"Weight of Feature in the decision\")\n",
    "plt.ylabel(\"Features\")\n",
    "plt.title(\"Most important 'Positive' features in SVM decision\")\n",
    "plt.gca().invert_yaxis()  # Inverter para mostrar a feature mais importante no topo\n",
    "plt.show()"
   ]
  },
  {
   "cell_type": "code",
   "execution_count": 37,
   "metadata": {},
   "outputs": [
    {
     "name": "stdout",
     "output_type": "stream",
     "text": [
      "Distribuição das classes após balanceamento:\n",
      "sentiment\n",
      "negative    494\n",
      "neutral     494\n",
      "positive    494\n",
      "Name: count, dtype: int64\n",
      "Distribuição das classes de teste:\n",
      "sentiment\n",
      "neutral     571\n",
      "positive    289\n",
      "negative    110\n",
      "Name: count, dtype: int64\n"
     ]
    }
   ],
   "source": [
    "#contar a distribuição das classes pós balanceamento em tabela\n",
    "class_distribution = pd.Series(y_train_resampled).value_counts()\n",
    "class_distribution2 = pd.Series(y_test).value_counts()\n",
    "\n",
    "# Exibir a distribuição das classes\n",
    "print(\"Distribuição das classes após balanceamento:\")\n",
    "print(class_distribution)\n",
    "\n",
    "print(\"Distribuição das classes de teste:\")\n",
    "print(class_distribution2)"
   ]
  }
 ],
 "metadata": {
  "colab": {
   "authorship_tag": "ABX9TyPOXB8CKgN/y9BUT6YVs1BT",
   "mount_file_id": "1uSEVZ870DAz9HnQdrWeuNlQ97TXEMsgr",
   "provenance": []
  },
  "kernelspec": {
   "display_name": "Python 3",
   "name": "python3"
  },
  "language_info": {
   "codemirror_mode": {
    "name": "ipython",
    "version": 3
   },
   "file_extension": ".py",
   "mimetype": "text/x-python",
   "name": "python",
   "nbconvert_exporter": "python",
   "pygments_lexer": "ipython3",
   "version": "3.11.0"
  }
 },
 "nbformat": 4,
 "nbformat_minor": 0
}
