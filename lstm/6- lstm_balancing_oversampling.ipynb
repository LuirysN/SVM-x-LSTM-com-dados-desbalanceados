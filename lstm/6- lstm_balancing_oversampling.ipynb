{
 "cells": [
  {
   "cell_type": "code",
   "execution_count": 1,
   "metadata": {
    "colab": {
     "base_uri": "https://localhost:8080/"
    },
    "collapsed": true,
    "executionInfo": {
     "elapsed": 3295,
     "status": "ok",
     "timestamp": 1746055826856,
     "user": {
      "displayName": "Luirys Nascimento",
      "userId": "04569512085598904612"
     },
     "user_tz": 180
    },
    "id": "TGZ1yzrkcYNP",
    "outputId": "53fb969e-6355-46af-f679-2190fb40dbc3"
   },
   "outputs": [
    {
     "name": "stdout",
     "output_type": "stream",
     "text": [
      "Requirement already satisfied: pandas in c:\\users\\cadastro\\appdata\\local\\programs\\python\\python311\\lib\\site-packages (2.3.1)\n",
      "Requirement already satisfied: numpy in c:\\users\\cadastro\\appdata\\local\\programs\\python\\python311\\lib\\site-packages (2.1.3)\n",
      "Requirement already satisfied: seaborn in c:\\users\\cadastro\\appdata\\local\\programs\\python\\python311\\lib\\site-packages (0.13.2)\n",
      "Requirement already satisfied: tensorflow in c:\\users\\cadastro\\appdata\\local\\programs\\python\\python311\\lib\\site-packages (2.19.0)\n",
      "Requirement already satisfied: python-dateutil>=2.8.2 in c:\\users\\cadastro\\appdata\\roaming\\python\\python311\\site-packages (from pandas) (2.9.0.post0)\n",
      "Requirement already satisfied: pytz>=2020.1 in c:\\users\\cadastro\\appdata\\local\\programs\\python\\python311\\lib\\site-packages (from pandas) (2025.2)\n",
      "Requirement already satisfied: tzdata>=2022.7 in c:\\users\\cadastro\\appdata\\local\\programs\\python\\python311\\lib\\site-packages (from pandas) (2025.2)\n",
      "Requirement already satisfied: matplotlib!=3.6.1,>=3.4 in c:\\users\\cadastro\\appdata\\local\\programs\\python\\python311\\lib\\site-packages (from seaborn) (3.10.3)\n",
      "Requirement already satisfied: absl-py>=1.0.0 in c:\\users\\cadastro\\appdata\\local\\programs\\python\\python311\\lib\\site-packages (from tensorflow) (2.3.1)\n",
      "Requirement already satisfied: astunparse>=1.6.0 in c:\\users\\cadastro\\appdata\\local\\programs\\python\\python311\\lib\\site-packages (from tensorflow) (1.6.3)\n",
      "Requirement already satisfied: flatbuffers>=24.3.25 in c:\\users\\cadastro\\appdata\\local\\programs\\python\\python311\\lib\\site-packages (from tensorflow) (25.2.10)\n",
      "Requirement already satisfied: gast!=0.5.0,!=0.5.1,!=0.5.2,>=0.2.1 in c:\\users\\cadastro\\appdata\\local\\programs\\python\\python311\\lib\\site-packages (from tensorflow) (0.6.0)\n",
      "Requirement already satisfied: google-pasta>=0.1.1 in c:\\users\\cadastro\\appdata\\local\\programs\\python\\python311\\lib\\site-packages (from tensorflow) (0.2.0)\n",
      "Requirement already satisfied: libclang>=13.0.0 in c:\\users\\cadastro\\appdata\\local\\programs\\python\\python311\\lib\\site-packages (from tensorflow) (18.1.1)\n",
      "Requirement already satisfied: opt-einsum>=2.3.2 in c:\\users\\cadastro\\appdata\\local\\programs\\python\\python311\\lib\\site-packages (from tensorflow) (3.4.0)\n",
      "Requirement already satisfied: packaging in c:\\users\\cadastro\\appdata\\roaming\\python\\python311\\site-packages (from tensorflow) (25.0)\n",
      "Requirement already satisfied: protobuf!=4.21.0,!=4.21.1,!=4.21.2,!=4.21.3,!=4.21.4,!=4.21.5,<6.0.0dev,>=3.20.3 in c:\\users\\cadastro\\appdata\\local\\programs\\python\\python311\\lib\\site-packages (from tensorflow) (5.29.5)\n",
      "Requirement already satisfied: requests<3,>=2.21.0 in c:\\users\\cadastro\\appdata\\local\\programs\\python\\python311\\lib\\site-packages (from tensorflow) (2.32.4)\n",
      "Requirement already satisfied: setuptools in c:\\users\\cadastro\\appdata\\local\\programs\\python\\python311\\lib\\site-packages (from tensorflow) (65.5.0)\n",
      "Requirement already satisfied: six>=1.12.0 in c:\\users\\cadastro\\appdata\\roaming\\python\\python311\\site-packages (from tensorflow) (1.17.0)\n",
      "Requirement already satisfied: termcolor>=1.1.0 in c:\\users\\cadastro\\appdata\\local\\programs\\python\\python311\\lib\\site-packages (from tensorflow) (3.1.0)\n",
      "Requirement already satisfied: typing-extensions>=3.6.6 in c:\\users\\cadastro\\appdata\\roaming\\python\\python311\\site-packages (from tensorflow) (4.14.1)\n",
      "Requirement already satisfied: wrapt>=1.11.0 in c:\\users\\cadastro\\appdata\\local\\programs\\python\\python311\\lib\\site-packages (from tensorflow) (1.17.2)\n",
      "Requirement already satisfied: grpcio<2.0,>=1.24.3 in c:\\users\\cadastro\\appdata\\local\\programs\\python\\python311\\lib\\site-packages (from tensorflow) (1.74.0)\n",
      "Requirement already satisfied: tensorboard~=2.19.0 in c:\\users\\cadastro\\appdata\\local\\programs\\python\\python311\\lib\\site-packages (from tensorflow) (2.19.0)\n",
      "Requirement already satisfied: keras>=3.5.0 in c:\\users\\cadastro\\appdata\\local\\programs\\python\\python311\\lib\\site-packages (from tensorflow) (3.10.0)\n",
      "Requirement already satisfied: h5py>=3.11.0 in c:\\users\\cadastro\\appdata\\local\\programs\\python\\python311\\lib\\site-packages (from tensorflow) (3.14.0)\n",
      "Requirement already satisfied: ml-dtypes<1.0.0,>=0.5.1 in c:\\users\\cadastro\\appdata\\local\\programs\\python\\python311\\lib\\site-packages (from tensorflow) (0.5.1)\n",
      "Requirement already satisfied: tensorflow-io-gcs-filesystem>=0.23.1 in c:\\users\\cadastro\\appdata\\local\\programs\\python\\python311\\lib\\site-packages (from tensorflow) (0.31.0)\n",
      "Requirement already satisfied: charset_normalizer<4,>=2 in c:\\users\\cadastro\\appdata\\local\\programs\\python\\python311\\lib\\site-packages (from requests<3,>=2.21.0->tensorflow) (3.4.2)\n",
      "Requirement already satisfied: idna<4,>=2.5 in c:\\users\\cadastro\\appdata\\local\\programs\\python\\python311\\lib\\site-packages (from requests<3,>=2.21.0->tensorflow) (3.10)\n",
      "Requirement already satisfied: urllib3<3,>=1.21.1 in c:\\users\\cadastro\\appdata\\local\\programs\\python\\python311\\lib\\site-packages (from requests<3,>=2.21.0->tensorflow) (2.5.0)\n",
      "Requirement already satisfied: certifi>=2017.4.17 in c:\\users\\cadastro\\appdata\\local\\programs\\python\\python311\\lib\\site-packages (from requests<3,>=2.21.0->tensorflow) (2025.7.14)\n",
      "Requirement already satisfied: markdown>=2.6.8 in c:\\users\\cadastro\\appdata\\local\\programs\\python\\python311\\lib\\site-packages (from tensorboard~=2.19.0->tensorflow) (3.8.2)\n",
      "Requirement already satisfied: tensorboard-data-server<0.8.0,>=0.7.0 in c:\\users\\cadastro\\appdata\\local\\programs\\python\\python311\\lib\\site-packages (from tensorboard~=2.19.0->tensorflow) (0.7.2)\n",
      "Requirement already satisfied: werkzeug>=1.0.1 in c:\\users\\cadastro\\appdata\\local\\programs\\python\\python311\\lib\\site-packages (from tensorboard~=2.19.0->tensorflow) (3.1.3)\n",
      "Requirement already satisfied: wheel<1.0,>=0.23.0 in c:\\users\\cadastro\\appdata\\local\\programs\\python\\python311\\lib\\site-packages (from astunparse>=1.6.0->tensorflow) (0.45.1)\n",
      "Requirement already satisfied: rich in c:\\users\\cadastro\\appdata\\local\\programs\\python\\python311\\lib\\site-packages (from keras>=3.5.0->tensorflow) (14.1.0)\n",
      "Requirement already satisfied: namex in c:\\users\\cadastro\\appdata\\local\\programs\\python\\python311\\lib\\site-packages (from keras>=3.5.0->tensorflow) (0.1.0)\n",
      "Requirement already satisfied: optree in c:\\users\\cadastro\\appdata\\local\\programs\\python\\python311\\lib\\site-packages (from keras>=3.5.0->tensorflow) (0.17.0)\n",
      "Requirement already satisfied: contourpy>=1.0.1 in c:\\users\\cadastro\\appdata\\local\\programs\\python\\python311\\lib\\site-packages (from matplotlib!=3.6.1,>=3.4->seaborn) (1.3.3)\n",
      "Requirement already satisfied: cycler>=0.10 in c:\\users\\cadastro\\appdata\\local\\programs\\python\\python311\\lib\\site-packages (from matplotlib!=3.6.1,>=3.4->seaborn) (0.12.1)\n",
      "Requirement already satisfied: fonttools>=4.22.0 in c:\\users\\cadastro\\appdata\\local\\programs\\python\\python311\\lib\\site-packages (from matplotlib!=3.6.1,>=3.4->seaborn) (4.59.0)\n",
      "Requirement already satisfied: kiwisolver>=1.3.1 in c:\\users\\cadastro\\appdata\\local\\programs\\python\\python311\\lib\\site-packages (from matplotlib!=3.6.1,>=3.4->seaborn) (1.4.8)\n",
      "Requirement already satisfied: pillow>=8 in c:\\users\\cadastro\\appdata\\local\\programs\\python\\python311\\lib\\site-packages (from matplotlib!=3.6.1,>=3.4->seaborn) (11.3.0)\n",
      "Requirement already satisfied: pyparsing>=2.3.1 in c:\\users\\cadastro\\appdata\\local\\programs\\python\\python311\\lib\\site-packages (from matplotlib!=3.6.1,>=3.4->seaborn) (3.2.3)\n",
      "Requirement already satisfied: MarkupSafe>=2.1.1 in c:\\users\\cadastro\\appdata\\local\\programs\\python\\python311\\lib\\site-packages (from werkzeug>=1.0.1->tensorboard~=2.19.0->tensorflow) (3.0.2)\n",
      "Requirement already satisfied: markdown-it-py>=2.2.0 in c:\\users\\cadastro\\appdata\\local\\programs\\python\\python311\\lib\\site-packages (from rich->keras>=3.5.0->tensorflow) (3.0.0)\n",
      "Requirement already satisfied: pygments<3.0.0,>=2.13.0 in c:\\users\\cadastro\\appdata\\roaming\\python\\python311\\site-packages (from rich->keras>=3.5.0->tensorflow) (2.19.2)\n",
      "Requirement already satisfied: mdurl~=0.1 in c:\\users\\cadastro\\appdata\\local\\programs\\python\\python311\\lib\\site-packages (from markdown-it-py>=2.2.0->rich->keras>=3.5.0->tensorflow) (0.1.2)\n",
      "Note: you may need to restart the kernel to use updated packages.\n",
      "Requirement already satisfied: nltk in c:\\users\\cadastro\\appdata\\local\\programs\\python\\python311\\lib\\site-packages (3.9.1)\n",
      "Requirement already satisfied: click in c:\\users\\cadastro\\appdata\\local\\programs\\python\\python311\\lib\\site-packages (from nltk) (8.2.1)\n",
      "Requirement already satisfied: joblib in c:\\users\\cadastro\\appdata\\local\\programs\\python\\python311\\lib\\site-packages (from nltk) (1.5.1)\n",
      "Requirement already satisfied: regex>=2021.8.3 in c:\\users\\cadastro\\appdata\\local\\programs\\python\\python311\\lib\\site-packages (from nltk) (2024.11.6)\n",
      "Requirement already satisfied: tqdm in c:\\users\\cadastro\\appdata\\local\\programs\\python\\python311\\lib\\site-packages (from nltk) (4.67.1)\n",
      "Requirement already satisfied: colorama in c:\\users\\cadastro\\appdata\\roaming\\python\\python311\\site-packages (from click->nltk) (0.4.6)\n",
      "Note: you may need to restart the kernel to use updated packages.\n",
      "Requirement already satisfied: lime in c:\\users\\cadastro\\appdata\\local\\programs\\python\\python311\\lib\\site-packages (0.2.0.1)\n",
      "Requirement already satisfied: matplotlib in c:\\users\\cadastro\\appdata\\local\\programs\\python\\python311\\lib\\site-packages (from lime) (3.10.3)\n",
      "Requirement already satisfied: numpy in c:\\users\\cadastro\\appdata\\local\\programs\\python\\python311\\lib\\site-packages (from lime) (2.1.3)\n",
      "Requirement already satisfied: scipy in c:\\users\\cadastro\\appdata\\local\\programs\\python\\python311\\lib\\site-packages (from lime) (1.16.1)\n",
      "Requirement already satisfied: tqdm in c:\\users\\cadastro\\appdata\\local\\programs\\python\\python311\\lib\\site-packages (from lime) (4.67.1)\n",
      "Requirement already satisfied: scikit-learn>=0.18 in c:\\users\\cadastro\\appdata\\local\\programs\\python\\python311\\lib\\site-packages (from lime) (1.6.1)\n",
      "Requirement already satisfied: scikit-image>=0.12 in c:\\users\\cadastro\\appdata\\local\\programs\\python\\python311\\lib\\site-packages (from lime) (0.25.2)\n",
      "Requirement already satisfied: networkx>=3.0 in c:\\users\\cadastro\\appdata\\local\\programs\\python\\python311\\lib\\site-packages (from scikit-image>=0.12->lime) (3.5)\n",
      "Requirement already satisfied: pillow>=10.1 in c:\\users\\cadastro\\appdata\\local\\programs\\python\\python311\\lib\\site-packages (from scikit-image>=0.12->lime) (11.3.0)\n",
      "Requirement already satisfied: imageio!=2.35.0,>=2.33 in c:\\users\\cadastro\\appdata\\local\\programs\\python\\python311\\lib\\site-packages (from scikit-image>=0.12->lime) (2.37.0)\n",
      "Requirement already satisfied: tifffile>=2022.8.12 in c:\\users\\cadastro\\appdata\\local\\programs\\python\\python311\\lib\\site-packages (from scikit-image>=0.12->lime) (2025.6.11)\n",
      "Requirement already satisfied: packaging>=21 in c:\\users\\cadastro\\appdata\\roaming\\python\\python311\\site-packages (from scikit-image>=0.12->lime) (25.0)\n",
      "Requirement already satisfied: lazy-loader>=0.4 in c:\\users\\cadastro\\appdata\\local\\programs\\python\\python311\\lib\\site-packages (from scikit-image>=0.12->lime) (0.4)\n",
      "Requirement already satisfied: joblib>=1.2.0 in c:\\users\\cadastro\\appdata\\local\\programs\\python\\python311\\lib\\site-packages (from scikit-learn>=0.18->lime) (1.5.1)\n",
      "Requirement already satisfied: threadpoolctl>=3.1.0 in c:\\users\\cadastro\\appdata\\local\\programs\\python\\python311\\lib\\site-packages (from scikit-learn>=0.18->lime) (3.6.0)\n",
      "Requirement already satisfied: contourpy>=1.0.1 in c:\\users\\cadastro\\appdata\\local\\programs\\python\\python311\\lib\\site-packages (from matplotlib->lime) (1.3.3)\n",
      "Requirement already satisfied: cycler>=0.10 in c:\\users\\cadastro\\appdata\\local\\programs\\python\\python311\\lib\\site-packages (from matplotlib->lime) (0.12.1)\n",
      "Requirement already satisfied: fonttools>=4.22.0 in c:\\users\\cadastro\\appdata\\local\\programs\\python\\python311\\lib\\site-packages (from matplotlib->lime) (4.59.0)\n",
      "Requirement already satisfied: kiwisolver>=1.3.1 in c:\\users\\cadastro\\appdata\\local\\programs\\python\\python311\\lib\\site-packages (from matplotlib->lime) (1.4.8)\n",
      "Requirement already satisfied: pyparsing>=2.3.1 in c:\\users\\cadastro\\appdata\\local\\programs\\python\\python311\\lib\\site-packages (from matplotlib->lime) (3.2.3)\n",
      "Requirement already satisfied: python-dateutil>=2.7 in c:\\users\\cadastro\\appdata\\roaming\\python\\python311\\site-packages (from matplotlib->lime) (2.9.0.post0)\n",
      "Requirement already satisfied: six>=1.5 in c:\\users\\cadastro\\appdata\\roaming\\python\\python311\\site-packages (from python-dateutil>=2.7->matplotlib->lime) (1.17.0)\n",
      "Requirement already satisfied: colorama in c:\\users\\cadastro\\appdata\\roaming\\python\\python311\\site-packages (from tqdm->lime) (0.4.6)\n",
      "Note: you may need to restart the kernel to use updated packages.\n",
      "Requirement already satisfied: imbalanced-learn in c:\\users\\cadastro\\appdata\\local\\programs\\python\\python311\\lib\\site-packages (0.13.0)\n",
      "Requirement already satisfied: numpy<3,>=1.24.3 in c:\\users\\cadastro\\appdata\\local\\programs\\python\\python311\\lib\\site-packages (from imbalanced-learn) (2.1.3)\n",
      "Requirement already satisfied: scipy<2,>=1.10.1 in c:\\users\\cadastro\\appdata\\local\\programs\\python\\python311\\lib\\site-packages (from imbalanced-learn) (1.16.1)\n",
      "Requirement already satisfied: scikit-learn<2,>=1.3.2 in c:\\users\\cadastro\\appdata\\local\\programs\\python\\python311\\lib\\site-packages (from imbalanced-learn) (1.6.1)\n",
      "Requirement already satisfied: sklearn-compat<1,>=0.1 in c:\\users\\cadastro\\appdata\\local\\programs\\python\\python311\\lib\\site-packages (from imbalanced-learn) (0.1.3)\n",
      "Requirement already satisfied: joblib<2,>=1.1.1 in c:\\users\\cadastro\\appdata\\local\\programs\\python\\python311\\lib\\site-packages (from imbalanced-learn) (1.5.1)\n",
      "Requirement already satisfied: threadpoolctl<4,>=2.0.0 in c:\\users\\cadastro\\appdata\\local\\programs\\python\\python311\\lib\\site-packages (from imbalanced-learn) (3.6.0)\n",
      "Note: you may need to restart the kernel to use updated packages.\n"
     ]
    }
   ],
   "source": [
    "%pip install pandas numpy seaborn tensorflow\n",
    "%pip install nltk\n",
    "%pip install lime\n",
    "%pip install imbalanced-learn"
   ]
  },
  {
   "cell_type": "code",
   "execution_count": 2,
   "metadata": {
    "executionInfo": {
     "elapsed": 11684,
     "status": "ok",
     "timestamp": 1746055838582,
     "user": {
      "displayName": "Luirys Nascimento",
      "userId": "04569512085598904612"
     },
     "user_tz": 180
    },
    "id": "x2bBOaM12oVs"
   },
   "outputs": [],
   "source": [
    "import pandas as pd\n",
    "import numpy as np\n",
    "import re\n",
    "import seaborn as sns\n",
    "import matplotlib.pyplot as plt\n",
    "\n",
    "\n",
    "from lime import lime_text\n",
    "from sklearn.pipeline import make_pipeline\n",
    "from sklearn.model_selection import train_test_split\n",
    "from sklearn.metrics import confusion_matrix, accuracy_score\n",
    "from sklearn.preprocessing import LabelEncoder\n",
    "\n",
    "from tensorflow.keras.models import Sequential\n",
    "from tensorflow.keras.layers import Embedding, LSTM, Dense, Dropout\n",
    "from tensorflow.keras.preprocessing.text import Tokenizer\n",
    "from tensorflow.keras.preprocessing.sequence import pad_sequences\n",
    "\n",
    "import tensorflow as tf\n",
    "from tensorflow.keras import backend as K\n",
    "from tensorflow.keras.layers import Layer\n",
    "\n",
    "# Camada de Atenção (Mover para antes da definição do modelo)\n",
    "class AttentionLayer(Layer):\n",
    "    def __init__(self, **kwargs):\n",
    "        super(AttentionLayer, self).__init__(**kwargs)\n",
    "\n",
    "    def build(self, input_shape):\n",
    "        assert len(input_shape) == 3\n",
    "        self.W = self.add_weight(name='att_W', shape=(input_shape[-1], 1), initializer='normal', trainable=True)\n",
    "        self.b = self.add_weight(name='att_b', shape=(input_shape[1], 1), initializer='zeros', trainable=True)\n",
    "        self.u = self.add_weight(name='att_u', shape=(input_shape[1], 1), initializer='normal', trainable=True)\n",
    "        super(AttentionLayer, self).build(input_shape)\n",
    "\n",
    "    def call(self, x):\n",
    "        et = K.squeeze(K.tanh(K.dot(x, self.W) + self.b), axis=-1)\n",
    "        at = K.softmax(et, axis=1)\n",
    "        at = K.expand_dims(at, axis=-1)\n",
    "        output = x * at\n",
    "        output = K.sum(output, axis=1)\n",
    "        self.attention_weights = at  # Armazenar os pesos para visualização\n",
    "        return output\n",
    "\n",
    "    def compute_output_shape(self, input_shape):\n",
    "        return (input_shape[0], input_shape[-1])\n",
    "\n",
    "    def get_config(self):\n",
    "        config = super().get_config().copy()\n",
    "        return config"
   ]
  },
  {
   "cell_type": "code",
   "execution_count": 3,
   "metadata": {
    "colab": {
     "base_uri": "https://localhost:8080/",
     "height": 206
    },
    "executionInfo": {
     "elapsed": 227,
     "status": "ok",
     "timestamp": 1746055860561,
     "user": {
      "displayName": "Luirys Nascimento",
      "userId": "04569512085598904612"
     },
     "user_tz": 180
    },
    "id": "-Oh9K9J2bD8B",
    "outputId": "e3a77e57-5f6f-48d2-e0fe-f77bd6382d5a"
   },
   "outputs": [],
   "source": [
    "df = pd.read_csv('all-data.csv')"
   ]
  },
  {
   "cell_type": "code",
   "execution_count": 4,
   "metadata": {},
   "outputs": [
    {
     "data": {
      "text/html": [
       "<div>\n",
       "<style scoped>\n",
       "    .dataframe tbody tr th:only-of-type {\n",
       "        vertical-align: middle;\n",
       "    }\n",
       "\n",
       "    .dataframe tbody tr th {\n",
       "        vertical-align: top;\n",
       "    }\n",
       "\n",
       "    .dataframe thead th {\n",
       "        text-align: right;\n",
       "    }\n",
       "</style>\n",
       "<table border=\"1\" class=\"dataframe\">\n",
       "  <thead>\n",
       "    <tr style=\"text-align: right;\">\n",
       "      <th></th>\n",
       "      <th>sentiment</th>\n",
       "      <th>text</th>\n",
       "    </tr>\n",
       "  </thead>\n",
       "  <tbody>\n",
       "    <tr>\n",
       "      <th>0</th>\n",
       "      <td>neutral</td>\n",
       "      <td>According to Gran , the company has no plans t...</td>\n",
       "    </tr>\n",
       "    <tr>\n",
       "      <th>1</th>\n",
       "      <td>neutral</td>\n",
       "      <td>Technopolis plans to develop in stages an area...</td>\n",
       "    </tr>\n",
       "    <tr>\n",
       "      <th>2</th>\n",
       "      <td>negative</td>\n",
       "      <td>The international electronic industry company ...</td>\n",
       "    </tr>\n",
       "    <tr>\n",
       "      <th>3</th>\n",
       "      <td>positive</td>\n",
       "      <td>With the new production plant the company woul...</td>\n",
       "    </tr>\n",
       "    <tr>\n",
       "      <th>4</th>\n",
       "      <td>positive</td>\n",
       "      <td>According to the company 's updated strategy f...</td>\n",
       "    </tr>\n",
       "  </tbody>\n",
       "</table>\n",
       "</div>"
      ],
      "text/plain": [
       "  sentiment                                               text\n",
       "0   neutral  According to Gran , the company has no plans t...\n",
       "1   neutral  Technopolis plans to develop in stages an area...\n",
       "2  negative  The international electronic industry company ...\n",
       "3  positive  With the new production plant the company woul...\n",
       "4  positive  According to the company 's updated strategy f..."
      ]
     },
     "execution_count": 4,
     "metadata": {},
     "output_type": "execute_result"
    }
   ],
   "source": [
    "df.head()"
   ]
  },
  {
   "cell_type": "code",
   "execution_count": 5,
   "metadata": {},
   "outputs": [
    {
     "data": {
      "text/plain": [
       "(4846, 2)"
      ]
     },
     "execution_count": 5,
     "metadata": {},
     "output_type": "execute_result"
    }
   ],
   "source": [
    "df.shape"
   ]
  },
  {
   "cell_type": "code",
   "execution_count": 6,
   "metadata": {},
   "outputs": [
    {
     "data": {
      "text/plain": [
       "<Axes: xlabel='sentiment', ylabel='count'>"
      ]
     },
     "execution_count": 6,
     "metadata": {},
     "output_type": "execute_result"
    },
    {
     "data": {
      "image/png": "[encoded data removed]",
      "text/plain": [
       "<Figure size 640x480 with 1 Axes>"
      ]
     },
     "metadata": {},
     "output_type": "display_data"
    }
   ],
   "source": [
    "sns.countplot(x='sentiment', data=df)"
   ]
  },
  {
   "cell_type": "markdown",
   "metadata": {
    "id": "MehOTidJ5B_7"
   },
   "source": [
    "**Pré-Processamento**"
   ]
  },
  {
   "cell_type": "code",
   "execution_count": 7,
   "metadata": {
    "colab": {
     "base_uri": "https://localhost:8080/"
    },
    "collapsed": true,
    "executionInfo": {
     "elapsed": 5904,
     "status": "ok",
     "timestamp": 1746055866459,
     "user": {
      "displayName": "Luirys Nascimento",
      "userId": "04569512085598904612"
     },
     "user_tz": 180
    },
    "id": "MGGWjOJu6R8f",
    "outputId": "5e1438f1-a80a-4fd7-9765-102a71f519a8"
   },
   "outputs": [
    {
     "name": "stderr",
     "output_type": "stream",
     "text": [
      "[nltk_data] Downloading package stopwords to\n",
      "[nltk_data]     C:\\Users\\CADASTRO\\AppData\\Roaming\\nltk_data...\n",
      "[nltk_data]   Package stopwords is already up-to-date!\n",
      "[nltk_data] Downloading package punkt to\n",
      "[nltk_data]     C:\\Users\\CADASTRO\\AppData\\Roaming\\nltk_data...\n",
      "[nltk_data]   Package punkt is already up-to-date!\n",
      "[nltk_data] Downloading package wordnet to\n",
      "[nltk_data]     C:\\Users\\CADASTRO\\AppData\\Roaming\\nltk_data...\n",
      "[nltk_data]   Package wordnet is already up-to-date!\n",
      "[nltk_data] Downloading package punkt_tab to\n",
      "[nltk_data]     C:\\Users\\CADASTRO\\AppData\\Roaming\\nltk_data...\n",
      "[nltk_data]   Package punkt_tab is already up-to-date!\n"
     ]
    },
    {
     "data": {
      "text/plain": [
       "True"
      ]
     },
     "execution_count": 7,
     "metadata": {},
     "output_type": "execute_result"
    }
   ],
   "source": [
    "import nltk\n",
    "from nltk.corpus import stopwords\n",
    "from nltk.tokenize import word_tokenize\n",
    "from nltk.stem import WordNetLemmatizer\n",
    "import re\n",
    "\n",
    "# Baixar pacotes necessários do NLTK\n",
    "nltk.download(\"stopwords\")\n",
    "nltk.download(\"punkt\")\n",
    "nltk.download(\"wordnet\")\n",
    "nltk.download('punkt_tab') # Download the 'punkt_tab' resource"
   ]
  },
  {
   "cell_type": "code",
   "execution_count": 8,
   "metadata": {
    "executionInfo": {
     "elapsed": 6,
     "status": "ok",
     "timestamp": 1746055866467,
     "user": {
      "displayName": "Luirys Nascimento",
      "userId": "04569512085598904612"
     },
     "user_tz": 180
    },
    "id": "JNtdlUGf6X02"
   },
   "outputs": [],
   "source": [
    "def preprocess_text(text):\n",
    "    # Converter para minúsculas\n",
    "    text = text.lower()\n",
    "\n",
    "    # Remover caracteres especiais e números\n",
    "    text = re.sub(r\"[^a-zA-Z\\s]\", \"\", text)\n",
    "\n",
    "    # Tokenização (dividir em palavras)\n",
    "    tokens = word_tokenize(text)\n",
    "\n",
    "    # Remover stopwords\n",
    "    stop_words = set(stopwords.words(\"english\"))\n",
    "    tokens = [word for word in tokens if word not in stop_words]\n",
    "\n",
    "    # Lematização (reduzir palavras à sua forma base)\n",
    "    lemmatizer = WordNetLemmatizer()\n",
    "    tokens = [lemmatizer.lemmatize(word) for word in tokens]\n",
    "\n",
    "    # Juntar as palavras processadas de volta em uma string\n",
    "    return \" \".join(tokens)"
   ]
  },
  {
   "cell_type": "code",
   "execution_count": 9,
   "metadata": {
    "executionInfo": {
     "elapsed": 11819,
     "status": "ok",
     "timestamp": 1746055878288,
     "user": {
      "displayName": "Luirys Nascimento",
      "userId": "04569512085598904612"
     },
     "user_tz": 180
    },
    "id": "oKQq2RNd6cYw"
   },
   "outputs": [],
   "source": [
    "df[\"clean_text\"] = df[\"text\"].apply(preprocess_text)"
   ]
  },
  {
   "cell_type": "code",
   "execution_count": 10,
   "metadata": {
    "colab": {
     "base_uri": "https://localhost:8080/",
     "height": 293
    },
    "executionInfo": {
     "elapsed": 102,
     "status": "ok",
     "timestamp": 1746055878368,
     "user": {
      "displayName": "Luirys Nascimento",
      "userId": "04569512085598904612"
     },
     "user_tz": 180
    },
    "id": "odLBNz2F6hFx",
    "outputId": "dd0234c8-adec-4047-da0c-479fc47b4125"
   },
   "outputs": [
    {
     "data": {
      "text/html": [
       "<div>\n",
       "<style scoped>\n",
       "    .dataframe tbody tr th:only-of-type {\n",
       "        vertical-align: middle;\n",
       "    }\n",
       "\n",
       "    .dataframe tbody tr th {\n",
       "        vertical-align: top;\n",
       "    }\n",
       "\n",
       "    .dataframe thead th {\n",
       "        text-align: right;\n",
       "    }\n",
       "</style>\n",
       "<table border=\"1\" class=\"dataframe\">\n",
       "  <thead>\n",
       "    <tr style=\"text-align: right;\">\n",
       "      <th></th>\n",
       "      <th>sentiment</th>\n",
       "      <th>text</th>\n",
       "      <th>clean_text</th>\n",
       "    </tr>\n",
       "  </thead>\n",
       "  <tbody>\n",
       "    <tr>\n",
       "      <th>0</th>\n",
       "      <td>neutral</td>\n",
       "      <td>According to Gran , the company has no plans t...</td>\n",
       "      <td>according gran company plan move production ru...</td>\n",
       "    </tr>\n",
       "    <tr>\n",
       "      <th>1</th>\n",
       "      <td>neutral</td>\n",
       "      <td>Technopolis plans to develop in stages an area...</td>\n",
       "      <td>technopolis plan develop stage area less squar...</td>\n",
       "    </tr>\n",
       "    <tr>\n",
       "      <th>2</th>\n",
       "      <td>negative</td>\n",
       "      <td>The international electronic industry company ...</td>\n",
       "      <td>international electronic industry company elco...</td>\n",
       "    </tr>\n",
       "    <tr>\n",
       "      <th>3</th>\n",
       "      <td>positive</td>\n",
       "      <td>With the new production plant the company woul...</td>\n",
       "      <td>new production plant company would increase ca...</td>\n",
       "    </tr>\n",
       "    <tr>\n",
       "      <th>4</th>\n",
       "      <td>positive</td>\n",
       "      <td>According to the company 's updated strategy f...</td>\n",
       "      <td>according company updated strategy year baswar...</td>\n",
       "    </tr>\n",
       "  </tbody>\n",
       "</table>\n",
       "</div>"
      ],
      "text/plain": [
       "  sentiment                                               text  \\\n",
       "0   neutral  According to Gran , the company has no plans t...   \n",
       "1   neutral  Technopolis plans to develop in stages an area...   \n",
       "2  negative  The international electronic industry company ...   \n",
       "3  positive  With the new production plant the company woul...   \n",
       "4  positive  According to the company 's updated strategy f...   \n",
       "\n",
       "                                          clean_text  \n",
       "0  according gran company plan move production ru...  \n",
       "1  technopolis plan develop stage area less squar...  \n",
       "2  international electronic industry company elco...  \n",
       "3  new production plant company would increase ca...  \n",
       "4  according company updated strategy year baswar...  "
      ]
     },
     "execution_count": 10,
     "metadata": {},
     "output_type": "execute_result"
    }
   ],
   "source": [
    "df.head(5)"
   ]
  },
  {
   "cell_type": "code",
   "execution_count": 11,
   "metadata": {
    "colab": {
     "base_uri": "https://localhost:8080/",
     "height": 469
    },
    "executionInfo": {
     "elapsed": 337,
     "status": "ok",
     "timestamp": 1746055878707,
     "user": {
      "displayName": "Luirys Nascimento",
      "userId": "04569512085598904612"
     },
     "user_tz": 180
    },
    "id": "SeRlGNm06n4X",
    "outputId": "3c6af6a3-2612-4f8a-e583-ebe9276df07e"
   },
   "outputs": [
    {
     "data": {
      "text/plain": [
       "<Axes: xlabel='sentiment', ylabel='count'>"
      ]
     },
     "execution_count": 11,
     "metadata": {},
     "output_type": "execute_result"
    },
    {
     "data": {
      "image/png": "[encoded data removed]",
      "text/plain": [
       "<Figure size 640x480 with 1 Axes>"
      ]
     },
     "metadata": {},
     "output_type": "display_data"
    }
   ],
   "source": [
    "sns.countplot(x=\"sentiment\", data=df) # validando se mudou as classes"
   ]
  },
  {
   "cell_type": "code",
   "execution_count": 12,
   "metadata": {
    "executionInfo": {
     "elapsed": 30,
     "status": "ok",
     "timestamp": 1746055878710,
     "user": {
      "displayName": "Luirys Nascimento",
      "userId": "04569512085598904612"
     },
     "user_tz": 180
    },
    "id": "YHS-N0-_-pv2"
   },
   "outputs": [],
   "source": [
    "le = LabelEncoder()\n",
    "df['label_encoded'] = le.fit_transform(df['sentiment'])"
   ]
  },
  {
   "cell_type": "code",
   "execution_count": 13,
   "metadata": {
    "executionInfo": {
     "elapsed": 30,
     "status": "ok",
     "timestamp": 1746055878714,
     "user": {
      "displayName": "Luirys Nascimento",
      "userId": "04569512085598904612"
     },
     "user_tz": 180
    },
    "id": "vOWDomvF-6ag"
   },
   "outputs": [],
   "source": [
    "X = df['clean_text']\n",
    "y = df['label_encoded']\n",
    "X_train, X_test, y_train, y_test = train_test_split(X, y, test_size=0.2, random_state=42)\n",
    "#, stratify=y"
   ]
  },
  {
   "cell_type": "code",
   "execution_count": 14,
   "metadata": {
    "executionInfo": {
     "elapsed": 209,
     "status": "ok",
     "timestamp": 1746055878895,
     "user": {
      "displayName": "Luirys Nascimento",
      "userId": "04569512085598904612"
     },
     "user_tz": 180
    },
    "id": "KZSSPToU_DfR"
   },
   "outputs": [],
   "source": [
    "#tokenização e padding\n",
    "max_words = 5000\n",
    "max_len = 100\n",
    "\n",
    "tokenizer = Tokenizer(num_words=max_words, oov_token=\"<OOV>\")\n",
    "tokenizer.fit_on_texts(X_train)\n",
    "\n",
    "X_train_seq = tokenizer.texts_to_sequences(X_train)\n",
    "X_test_seq = tokenizer.texts_to_sequences(X_test)\n",
    "\n",
    "X_train_pad = pad_sequences(X_train_seq, maxlen=max_len)\n",
    "X_test_pad = pad_sequences(X_test_seq, maxlen=max_len)"
   ]
  },
  {
   "cell_type": "markdown",
   "metadata": {
    "id": "6T9GMnn25ls1"
   },
   "source": [
    "**LSTM**"
   ]
  },
  {
   "cell_type": "code",
   "execution_count": 15,
   "metadata": {
    "executionInfo": {
     "elapsed": 3,
     "status": "ok",
     "timestamp": 1746055878899,
     "user": {
      "displayName": "Luirys Nascimento",
      "userId": "04569512085598904612"
     },
     "user_tz": 180
    },
    "id": "SNUIizk-iQOD"
   },
   "outputs": [],
   "source": [
    "import tensorflow as tf\n",
    "from tensorflow.keras.models import Sequential\n",
    "from tensorflow.keras.layers import Embedding, LSTM, Dense, Dropout"
   ]
  },
  {
   "cell_type": "code",
   "execution_count": 16,
   "metadata": {
    "colab": {
     "base_uri": "https://localhost:8080/"
    },
    "executionInfo": {
     "elapsed": 78,
     "status": "ok",
     "timestamp": 1746055878978,
     "user": {
      "displayName": "Luirys Nascimento",
      "userId": "04569512085598904612"
     },
     "user_tz": 180
    },
    "id": "IO5ulmOr8N2M",
    "outputId": "e4c13f74-22db-4388-da7b-9b7116906846"
   },
   "outputs": [
    {
     "name": "stderr",
     "output_type": "stream",
     "text": [
      "c:\\Users\\CADASTRO\\AppData\\Local\\Programs\\Python\\Python311\\Lib\\site-packages\\keras\\src\\layers\\core\\embedding.py:97: UserWarning: Argument `input_length` is deprecated. Just remove it.\n",
      "  warnings.warn(\n"
     ]
    }
   ],
   "source": [
    "# Definir o modelo LSTM\n",
    "model = Sequential()\n",
    "model.add(Embedding(input_dim=max_words, output_dim=128, input_length=max_len))\n",
    "model.add(LSTM(128, return_sequences=True))  # LSTM com retorno de sequências para atenção\n",
    "model.add(AttentionLayer())  # Adicionar a camada de atenção\n",
    "model.add(Dense(3, activation='softmax'))  # 3 saídas para sentimentos (negativo, neutro, positivo)"
   ]
  },
  {
   "cell_type": "code",
   "execution_count": 17,
   "metadata": {
    "executionInfo": {
     "elapsed": 16,
     "status": "ok",
     "timestamp": 1746055878993,
     "user": {
      "displayName": "Luirys Nascimento",
      "userId": "04569512085598904612"
     },
     "user_tz": 180
    },
    "id": "sg71Hxej8WQR"
   },
   "outputs": [],
   "source": [
    "# Compilar o modelo\n",
    "model.compile(optimizer='adam',\n",
    "              loss='sparse_categorical_crossentropy',  # Use sparse_categorical_crossentropy se y_train for numérico\n",
    "              metrics=['accuracy'])"
   ]
  },
  {
   "cell_type": "code",
   "execution_count": 18,
   "metadata": {
    "colab": {
     "base_uri": "https://localhost:8080/"
    },
    "executionInfo": {
     "elapsed": 331791,
     "status": "ok",
     "timestamp": 1746056210787,
     "user": {
      "displayName": "Luirys Nascimento",
      "userId": "04569512085598904612"
     },
     "user_tz": 180
    },
    "id": "_gExjV7v8aKV",
    "outputId": "fb27f4b8-8045-4f3c-853f-01d30754f7e3"
   },
   "outputs": [
    {
     "name": "stdout",
     "output_type": "stream",
     "text": [
      "Epoch 1/10\n"
     ]
    },
    {
     "name": "stderr",
     "output_type": "stream",
     "text": [
      "c:\\Users\\CADASTRO\\AppData\\Local\\Programs\\Python\\Python311\\Lib\\site-packages\\keras\\src\\optimizers\\base_optimizer.py:855: UserWarning: Gradients do not exist for variables ['sequential/attention_layer/att_u'] when minimizing the loss. If using `model.compile()`, did you forget to provide a `loss` argument?\n",
      "  warnings.warn(\n"
     ]
    },
    {
     "name": "stdout",
     "output_type": "stream",
     "text": [
      "\u001b[1m109/109\u001b[0m \u001b[32m━━━━━━━━━━━━━━━━━━━━\u001b[0m\u001b[37m\u001b[0m \u001b[1m98s\u001b[0m 556ms/step - accuracy: 0.5796 - loss: 0.9508 - val_accuracy: 0.6314 - val_loss: 0.8571\n",
      "Epoch 2/10\n",
      "\u001b[1m109/109\u001b[0m \u001b[32m━━━━━━━━━━━━━━━━━━━━\u001b[0m\u001b[37m\u001b[0m \u001b[1m63s\u001b[0m 379ms/step - accuracy: 0.6564 - loss: 0.7913 - val_accuracy: 0.6418 - val_loss: 0.8154\n",
      "Epoch 3/10\n",
      "\u001b[1m109/109\u001b[0m \u001b[32m━━━━━━━━━━━━━━━━━━━━\u001b[0m\u001b[37m\u001b[0m \u001b[1m43s\u001b[0m 398ms/step - accuracy: 0.7501 - loss: 0.6057 - val_accuracy: 0.6778 - val_loss: 0.7549\n",
      "Epoch 4/10\n",
      "\u001b[1m109/109\u001b[0m \u001b[32m━━━━━━━━━━━━━━━━━━━━\u001b[0m\u001b[37m\u001b[0m \u001b[1m75s\u001b[0m 325ms/step - accuracy: 0.8473 - loss: 0.4165 - val_accuracy: 0.6727 - val_loss: 0.7958\n",
      "Epoch 5/10\n",
      "\u001b[1m109/109\u001b[0m \u001b[32m━━━━━━━━━━━━━━━━━━━━\u001b[0m\u001b[37m\u001b[0m \u001b[1m41s\u001b[0m 372ms/step - accuracy: 0.9041 - loss: 0.2959 - val_accuracy: 0.7113 - val_loss: 0.8976\n",
      "Epoch 6/10\n",
      "\u001b[1m109/109\u001b[0m \u001b[32m━━━━━━━━━━━━━━━━━━━━\u001b[0m\u001b[37m\u001b[0m \u001b[1m48s\u001b[0m 435ms/step - accuracy: 0.9333 - loss: 0.2118 - val_accuracy: 0.6778 - val_loss: 1.0210\n",
      "Epoch 7/10\n",
      "\u001b[1m109/109\u001b[0m \u001b[32m━━━━━━━━━━━━━━━━━━━━\u001b[0m\u001b[37m\u001b[0m \u001b[1m18s\u001b[0m 168ms/step - accuracy: 0.9441 - loss: 0.1817 - val_accuracy: 0.6830 - val_loss: 1.2817\n",
      "Epoch 8/10\n",
      "\u001b[1m109/109\u001b[0m \u001b[32m━━━━━━━━━━━━━━━━━━━━\u001b[0m\u001b[37m\u001b[0m \u001b[1m28s\u001b[0m 258ms/step - accuracy: 0.9573 - loss: 0.1371 - val_accuracy: 0.7139 - val_loss: 1.0255\n",
      "Epoch 9/10\n",
      "\u001b[1m109/109\u001b[0m \u001b[32m━━━━━━━━━━━━━━━━━━━━\u001b[0m\u001b[37m\u001b[0m \u001b[1m52s\u001b[0m 354ms/step - accuracy: 0.9674 - loss: 0.1140 - val_accuracy: 0.6830 - val_loss: 1.1565\n",
      "Epoch 10/10\n",
      "\u001b[1m109/109\u001b[0m \u001b[32m━━━━━━━━━━━━━━━━━━━━\u001b[0m\u001b[37m\u001b[0m \u001b[1m41s\u001b[0m 375ms/step - accuracy: 0.9708 - loss: 0.0952 - val_accuracy: 0.6701 - val_loss: 1.4769\n"
     ]
    }
   ],
   "source": [
    "# Treinar o modelo\n",
    "history = model.fit(X_train_pad, y_train,\n",
    "                    epochs=10,\n",
    "                    batch_size=32,\n",
    "                    validation_split=0.1)  # Validação durante o treinamento"
   ]
  },
  {
   "cell_type": "markdown",
   "metadata": {
    "id": "bfbvhN45Yu9E"
   },
   "source": [
    "**OVERSAMPLING**"
   ]
  },
  {
   "cell_type": "code",
   "execution_count": 19,
   "metadata": {
    "executionInfo": {
     "elapsed": 2288,
     "status": "ok",
     "timestamp": 1746056216373,
     "user": {
      "displayName": "Luirys Nascimento",
      "userId": "04569512085598904612"
     },
     "user_tz": 180
    },
    "id": "3qMN8YzR3OQA"
   },
   "outputs": [],
   "source": [
    "from imblearn.over_sampling import RandomOverSampler\n",
    "\n",
    "ros = RandomOverSampler(random_state=42)  # Define um estado aleatório para reprodutibilidade\n",
    "X_train_resampled, y_train_resampled = ros.fit_resample(X_train_pad, y_train)"
   ]
  },
  {
   "cell_type": "code",
   "execution_count": 20,
   "metadata": {
    "colab": {
     "base_uri": "https://localhost:8080/"
    },
    "executionInfo": {
     "elapsed": 486720,
     "status": "ok",
     "timestamp": 1746056703103,
     "user": {
      "displayName": "Luirys Nascimento",
      "userId": "04569512085598904612"
     },
     "user_tz": 180
    },
    "id": "OvI5XLgx3WHR",
    "outputId": "7f850b92-a7b7-4516-f71d-2ad76f76edec"
   },
   "outputs": [
    {
     "name": "stdout",
     "output_type": "stream",
     "text": [
      "Epoch 1/10\n"
     ]
    },
    {
     "name": "stderr",
     "output_type": "stream",
     "text": [
      "c:\\Users\\CADASTRO\\AppData\\Local\\Programs\\Python\\Python311\\Lib\\site-packages\\keras\\src\\optimizers\\base_optimizer.py:855: UserWarning: Gradients do not exist for variables ['sequential/attention_layer/att_u'] when minimizing the loss. If using `model.compile()`, did you forget to provide a `loss` argument?\n",
      "  warnings.warn(\n"
     ]
    },
    {
     "name": "stdout",
     "output_type": "stream",
     "text": [
      "\u001b[1m195/195\u001b[0m \u001b[32m━━━━━━━━━━━━━━━━━━━━\u001b[0m\u001b[37m\u001b[0m \u001b[1m76s\u001b[0m 342ms/step - accuracy: 0.9332 - loss: 0.2264 - val_accuracy: 0.9582 - val_loss: 0.1859\n",
      "Epoch 2/10\n",
      "\u001b[1m195/195\u001b[0m \u001b[32m━━━━━━━━━━━━━━━━━━━━\u001b[0m\u001b[37m\u001b[0m \u001b[1m95s\u001b[0m 408ms/step - accuracy: 0.9588 - loss: 0.1425 - val_accuracy: 0.9567 - val_loss: 0.1316\n",
      "Epoch 3/10\n",
      "\u001b[1m195/195\u001b[0m \u001b[32m━━━━━━━━━━━━━━━━━━━━\u001b[0m\u001b[37m\u001b[0m \u001b[1m79s\u001b[0m 389ms/step - accuracy: 0.9726 - loss: 0.0969 - val_accuracy: 0.9553 - val_loss: 0.1245\n",
      "Epoch 4/10\n",
      "\u001b[1m195/195\u001b[0m \u001b[32m━━━━━━━━━━━━━━━━━━━━\u001b[0m\u001b[37m\u001b[0m \u001b[1m64s\u001b[0m 289ms/step - accuracy: 0.9814 - loss: 0.0717 - val_accuracy: 0.9394 - val_loss: 0.2361\n",
      "Epoch 5/10\n",
      "\u001b[1m195/195\u001b[0m \u001b[32m━━━━━━━━━━━━━━━━━━━━\u001b[0m\u001b[37m\u001b[0m \u001b[1m93s\u001b[0m 345ms/step - accuracy: 0.9732 - loss: 0.0833 - val_accuracy: 0.9841 - val_loss: 0.0728\n",
      "Epoch 6/10\n",
      "\u001b[1m195/195\u001b[0m \u001b[32m━━━━━━━━━━━━━━━━━━━━\u001b[0m\u001b[37m\u001b[0m \u001b[1m83s\u001b[0m 350ms/step - accuracy: 0.9842 - loss: 0.0564 - val_accuracy: 0.9798 - val_loss: 0.0506\n",
      "Epoch 7/10\n",
      "\u001b[1m195/195\u001b[0m \u001b[32m━━━━━━━━━━━━━━━━━━━━\u001b[0m\u001b[37m\u001b[0m \u001b[1m54s\u001b[0m 278ms/step - accuracy: 0.9854 - loss: 0.0442 - val_accuracy: 0.9769 - val_loss: 0.0603\n",
      "Epoch 8/10\n",
      "\u001b[1m195/195\u001b[0m \u001b[32m━━━━━━━━━━━━━━━━━━━━\u001b[0m\u001b[37m\u001b[0m \u001b[1m76s\u001b[0m 244ms/step - accuracy: 0.9904 - loss: 0.0324 - val_accuracy: 0.9841 - val_loss: 0.0420\n",
      "Epoch 9/10\n",
      "\u001b[1m195/195\u001b[0m \u001b[32m━━━━━━━━━━━━━━━━━━━━\u001b[0m\u001b[37m\u001b[0m \u001b[1m83s\u001b[0m 247ms/step - accuracy: 0.9875 - loss: 0.0380 - val_accuracy: 0.9697 - val_loss: 0.0863\n",
      "Epoch 10/10\n",
      "\u001b[1m195/195\u001b[0m \u001b[32m━━━━━━━━━━━━━━━━━━━━\u001b[0m\u001b[37m\u001b[0m \u001b[1m53s\u001b[0m 272ms/step - accuracy: 0.9844 - loss: 0.0459 - val_accuracy: 0.9870 - val_loss: 0.0335\n"
     ]
    }
   ],
   "source": [
    "# treino do modelo com os dados desbalanceados\n",
    "history = model.fit(X_train_resampled, y_train_resampled,\n",
    "                    epochs=10,\n",
    "                    batch_size=32,\n",
    "                    validation_split=0.1)"
   ]
  },
  {
   "cell_type": "code",
   "execution_count": 21,
   "metadata": {
    "colab": {
     "base_uri": "https://localhost:8080/",
     "height": 467
    },
    "executionInfo": {
     "elapsed": 207,
     "status": "ok",
     "timestamp": 1746056703326,
     "user": {
      "displayName": "Luirys Nascimento",
      "userId": "04569512085598904612"
     },
     "user_tz": 180
    },
    "id": "epaQKfQ0ag70",
    "outputId": "a3c9e0aa-e110-4351-ce29-47f14707b18f"
   },
   "outputs": [
    {
     "data": {
      "text/plain": [
       "<Axes: xlabel='label_encoded', ylabel='count'>"
      ]
     },
     "execution_count": 21,
     "metadata": {},
     "output_type": "execute_result"
    },
    {
     "data": {
      "image/png": "[encoded data removed]",
      "text/plain": [
       "<Figure size 640x480 with 1 Axes>"
      ]
     },
     "metadata": {},
     "output_type": "display_data"
    }
   ],
   "source": [
    "#verificar a nova distribuição de classes\n",
    "sns.countplot(x=y_train_resampled)"
   ]
  },
  {
   "cell_type": "markdown",
   "metadata": {
    "id": "-1OD1GmO_beM"
   },
   "source": [
    "**Métricas**"
   ]
  },
  {
   "cell_type": "code",
   "execution_count": 22,
   "metadata": {
    "colab": {
     "base_uri": "https://localhost:8080/"
    },
    "executionInfo": {
     "elapsed": 2260,
     "status": "ok",
     "timestamp": 1746056705588,
     "user": {
      "displayName": "Luirys Nascimento",
      "userId": "04569512085598904612"
     },
     "user_tz": 180
    },
    "id": "61J_o2hJ8wcK",
    "outputId": "acbcff34-200e-49c1-aa18-404ea0fa9308"
   },
   "outputs": [
    {
     "name": "stdout",
     "output_type": "stream",
     "text": [
      "\u001b[1m31/31\u001b[0m \u001b[32m━━━━━━━━━━━━━━━━━━━━\u001b[0m\u001b[37m\u001b[0m \u001b[1m5s\u001b[0m 128ms/step\n",
      "              precision    recall  f1-score   support\n",
      "\n",
      "           0       0.57      0.60      0.59       110\n",
      "           1       0.78      0.81      0.80       571\n",
      "           2       0.62      0.56      0.59       289\n",
      "\n",
      "    accuracy                           0.71       970\n",
      "   macro avg       0.66      0.66      0.66       970\n",
      "weighted avg       0.71      0.71      0.71       970\n",
      "\n"
     ]
    }
   ],
   "source": [
    "from sklearn.metrics import classification_report\n",
    "\n",
    "# Fazer previsões no conjunto de teste\n",
    "y_pred = model.predict(X_test_pad)\n",
    "y_pred_classes = np.argmax(y_pred, axis=1)\n",
    "\n",
    "# Gerar o relatório de classificação\n",
    "print(classification_report(y_test, y_pred_classes))\n"
   ]
  },
  {
   "cell_type": "code",
   "execution_count": 23,
   "metadata": {},
   "outputs": [
    {
     "name": "stdout",
     "output_type": "stream",
     "text": [
      "Acurácia: 0.7134\n",
      "Precisão: 0.7101\n",
      "Recall: 0.7134\n",
      "F1-Score: 0.7111\n"
     ]
    }
   ],
   "source": [
    "#acuracia,precisão, recall e f1-score\n",
    "from sklearn.metrics import accuracy_score, precision_score, recall_score, f1_score\n",
    "def calculate_metrics(y_true, y_pred):\n",
    "    accuracy = accuracy_score(y_true, y_pred)\n",
    "    precision = precision_score(y_true, y_pred, average='weighted')\n",
    "    recall = recall_score(y_true, y_pred, average='weighted')\n",
    "    f1 = f1_score(y_true, y_pred, average='weighted')\n",
    "    \n",
    "    return accuracy, precision, recall, f1\n",
    "# Calcular as métricas\n",
    "accuracy, precision, recall, f1 = calculate_metrics(y_test, y_pred_classes)\n",
    "print(f\"Acurácia: {accuracy:.4f}\")\n",
    "print(f\"Precisão: {precision:.4f}\")\n",
    "print(f\"Recall: {recall:.4f}\")\n",
    "print(f\"F1-Score: {f1:.4f}\")"
   ]
  },
  {
   "cell_type": "code",
   "execution_count": 24,
   "metadata": {
    "colab": {
     "base_uri": "https://localhost:8080/",
     "height": 548
    },
    "executionInfo": {
     "elapsed": 333,
     "status": "ok",
     "timestamp": 1746056705923,
     "user": {
      "displayName": "Luirys Nascimento",
      "userId": "04569512085598904612"
     },
     "user_tz": 180
    },
    "id": "VskIwEXi9BM9",
    "outputId": "f1dbc6cb-d711-4fe3-fc3a-4a7de07462b0"
   },
   "outputs": [
    {
     "data": {
      "image/png": "[encoded data removed]",
      "text/plain": [
       "<Figure size 800x600 with 2 Axes>"
      ]
     },
     "metadata": {},
     "output_type": "display_data"
    }
   ],
   "source": [
    "# Calcular a matriz de confusão\n",
    "conf_matrix = confusion_matrix(y_test, y_pred_classes)\n",
    "\n",
    "# Criar o heatmap da matriz de confusão\n",
    "plt.figure(figsize=(8, 6))\n",
    "sns.heatmap(conf_matrix, annot=True, fmt=\"d\", cmap=\"Blues\",\n",
    "            xticklabels=le.classes_, yticklabels=le.classes_)\n",
    "plt.xlabel(\"Predictions\")\n",
    "plt.ylabel(\"Real Values\")\n",
    "plt.title(\"Confusion Matrix\")\n",
    "plt.show()"
   ]
  },
  {
   "cell_type": "markdown",
   "metadata": {
    "id": "bg98x4qn_5_7"
   },
   "source": [
    "**LIME**"
   ]
  },
  {
   "cell_type": "code",
   "execution_count": 25,
   "metadata": {
    "colab": {
     "base_uri": "https://localhost:8080/",
     "height": 352
    },
    "executionInfo": {
     "elapsed": 19733,
     "status": "ok",
     "timestamp": 1746056844228,
     "user": {
      "displayName": "Luirys Nascimento",
      "userId": "04569512085598904612"
     },
     "user_tz": 180
    },
    "id": "9OvNxR8c-TEP",
    "outputId": "e439f886-149a-4491-9e09-1dbe520e5bf0"
   },
   "outputs": [
    {
     "name": "stdout",
     "output_type": "stream",
     "text": [
      "\u001b[1m1/1\u001b[0m \u001b[32m━━━━━━━━━━━━━━━━━━━━\u001b[0m\u001b[37m\u001b[0m \u001b[1m1s\u001b[0m 527ms/step\n",
      "Número da linha no X_test: 499\n",
      "Original text:\n",
      "preliminary estimation technology park measure square meter\n",
      "Classe real: neutral\n",
      "Classe predita: neutral\n",
      "\u001b[1m157/157\u001b[0m \u001b[32m━━━━━━━━━━━━━━━━━━━━\u001b[0m\u001b[37m\u001b[0m \u001b[1m12s\u001b[0m 74ms/step\n",
      "[(np.str_('estimation'), 0.16970479376997052), (np.str_('technology'), -0.09333367115136272), (np.str_('preliminary'), -0.09272518444728595), (np.str_('park'), -0.08842933061280724), (np.str_('measure'), -0.07770230628711783), (np.str_('meter'), -0.0303230056802825), (np.str_('square'), 0.02002876650097322)]\n"
     ]
    }
   ],
   "source": [
    "from lime.lime_text import LimeTextExplainer\n",
    "\n",
    "explainer = LimeTextExplainer(class_names=le.classes_)\n",
    "\n",
    "def predict_proba(texts):\n",
    "    sequences = tokenizer.texts_to_sequences(texts)\n",
    "    padded_sequences = pad_sequences(sequences, maxlen=max_len)\n",
    "    predictions = model.predict(padded_sequences)\n",
    "    return predictions  # Já retorna probabilidades (softmax)\n",
    "\n",
    "# Solicita ao usuário o número da linha do exemplo\n",
    "idx = int(input(f\"Digite o número da linha (0 a {len(X_test)-1}): \"))\n",
    "sample_text = X_test.iloc[idx]\n",
    "sample_label = y_test.iloc[idx]\n",
    "\n",
    "# Predição da classe para o texto selecionado\n",
    "sample_seq = tokenizer.texts_to_sequences([sample_text])\n",
    "sample_pad = pad_sequences(sample_seq, maxlen=max_len)\n",
    "pred_probs = model.predict(sample_pad)\n",
    "pred_class_idx = pred_probs.argmax(axis=1)[0]\n",
    "pred_class_name = le.classes_[pred_class_idx]\n",
    "\n",
    "print(f\"Número da linha no X_test: {idx}\")\n",
    "print(f\"Original text:\\n{sample_text}\")\n",
    "print(f\"Classe real: {le.classes_[sample_label]}\")\n",
    "print(f\"Classe predita: {pred_class_name}\")\n",
    "\n",
    "explanation = explainer.explain_instance(\n",
    "    sample_text,\n",
    "    predict_proba,\n",
    "    num_features=10\n",
    ")\n",
    "\n",
    "print(explanation.as_list())"
   ]
  },
  {
   "cell_type": "code",
   "execution_count": 26,
   "metadata": {
    "colab": {
     "base_uri": "https://localhost:8080/"
    },
    "executionInfo": {
     "elapsed": 15,
     "status": "ok",
     "timestamp": 1746056736264,
     "user": {
      "displayName": "Luirys Nascimento",
      "userId": "04569512085598904612"
     },
     "user_tz": 180
    },
    "id": "AUxGe0Cu97Fn",
    "outputId": "ce751ca7-17cc-41cc-b252-df93fa2fcd51"
   },
   "outputs": [
    {
     "name": "stdout",
     "output_type": "stream",
     "text": [
      "Palavras mais importantes e seus pesos:\n",
      "estimation: 0.1697\n",
      "technology: -0.0933\n",
      "preliminary: -0.0927\n",
      "park: -0.0884\n",
      "measure: -0.0777\n",
      "meter: -0.0303\n",
      "square: 0.0200\n"
     ]
    }
   ],
   "source": [
    "# Obtém as palavras mais importantes e seus pesos\n",
    "lime_features = explanation.as_list()\n",
    "\n",
    "# Exibe cada palavra com seu impacto na predição\n",
    "print(\"Palavras mais importantes e seus pesos:\")\n",
    "for word, weight in lime_features:\n",
    "    print(f\"{word}: {weight:.4f}\")"
   ]
  },
  {
   "cell_type": "code",
   "execution_count": 27,
   "metadata": {
    "colab": {
     "base_uri": "https://localhost:8080/",
     "height": 386
    },
    "executionInfo": {
     "elapsed": 10,
     "status": "ok",
     "timestamp": 1746056736277,
     "user": {
      "displayName": "Luirys Nascimento",
      "userId": "04569512085598904612"
     },
     "user_tz": 180
    },
    "id": "pd9_iJgD-xvA",
    "outputId": "fbbb6023-d0f5-45ba-8fae-1dbdb448a362"
   },
   "outputs": [
    {
     "data": {
      "image/png": "[encoded data removed]",
      "text/plain": [
       "<Figure size 1000x500 with 1 Axes>"
      ]
     },
     "metadata": {},
     "output_type": "display_data"
    }
   ],
   "source": [
    "# Separar palavras e pesos\n",
    "words, weights = zip(*lime_features)\n",
    "\n",
    "# Criar gráfico de barras\n",
    "plt.figure(figsize=(10, 5))\n",
    "plt.barh(words, weights, color=\"blue\")\n",
    "plt.xlabel(\"Weight of the word in the decision\")\n",
    "plt.ylabel(\"Words\")\n",
    "plt.title(\"Most important words in the explanation of LIME\")\n",
    "plt.gca().invert_yaxis()  # Inverter para mostrar a palavra mais importante no topo\n",
    "plt.show()"
   ]
  },
  {
   "cell_type": "code",
   "execution_count": 28,
   "metadata": {},
   "outputs": [
    {
     "name": "stdout",
     "output_type": "stream",
     "text": [
      "estimation: 0.16970479376997052\n",
      "technology: -0.09333367115136272\n",
      "preliminary: -0.09272518444728595\n",
      "park: -0.08842933061280724\n",
      "measure: -0.07770230628711783\n",
      "meter: -0.0303230056802825\n",
      "square: 0.02002876650097322\n"
     ]
    }
   ],
   "source": [
    "# Obter as palavras mais importantes e seus pesos no geral\n",
    "words_weights = explanation.as_list()\n",
    "\n",
    "# Imprimir as palavras e pesos\n",
    "for word, weight in words_weights:\n",
    "    print(f\"{word}: {weight}\")"
   ]
  },
  {
   "cell_type": "code",
   "execution_count": 29,
   "metadata": {},
   "outputs": [
    {
     "data": {
      "image/png": "[encoded data removed]",
      "text/plain": [
       "<Figure size 1000x600 with 1 Axes>"
      ]
     },
     "metadata": {},
     "output_type": "display_data"
    }
   ],
   "source": [
    "# Obter as palavras mais importantes e seus pesos no geral\n",
    "words_weights = explanation.as_list()\n",
    "\n",
    "# Separar palavras e pesos em listas separadas\n",
    "words = [word for word, weight in words_weights]\n",
    "weights = [weight for word, weight in words_weights]\n",
    "\n",
    "# Criar o gráfico de barras horizontais\n",
    "plt.figure(figsize=(10, 6))  # Ajustar o tamanho da figura, se necessário\n",
    "plt.barh(words, weights)\n",
    "plt.xlabel(\"Weight\")\n",
    "plt.ylabel(\"Words\")\n",
    "plt.title(\"Weights of the Most Important Words\")\n",
    "plt.gca().invert_yaxis()  # Inverter o eixo y para que as palavras mais importantes estejam no topo\n",
    "plt.show()"
   ]
  },
  {
   "cell_type": "markdown",
   "metadata": {
    "id": "Be0KulnF_NHv"
   },
   "source": [
    "**Attention Viz**"
   ]
  },
  {
   "cell_type": "code",
   "execution_count": 30,
   "metadata": {
    "colab": {
     "base_uri": "https://localhost:8080/"
    },
    "executionInfo": {
     "elapsed": 13,
     "status": "ok",
     "timestamp": 1746056736292,
     "user": {
      "displayName": "Luirys Nascimento",
      "userId": "04569512085598904612"
     },
     "user_tz": 180
    },
    "id": "GMVlYAfWAftc",
    "outputId": "300f6196-e4dc-402c-fc7d-0a775821c4cb"
   },
   "outputs": [
    {
     "data": {
      "text/plain": [
       "array(['negative', 'neutral', 'positive'], dtype=object)"
      ]
     },
     "execution_count": 30,
     "metadata": {},
     "output_type": "execute_result"
    }
   ],
   "source": [
    "le.classes_"
   ]
  },
  {
   "cell_type": "code",
   "execution_count": 40,
   "metadata": {},
   "outputs": [
    {
     "name": "stdout",
     "output_type": "stream",
     "text": [
      "\u001b[1m1/1\u001b[0m \u001b[32m━━━━━━━━━━━━━━━━━━━━\u001b[0m\u001b[37m\u001b[0m \u001b[1m0s\u001b[0m 180ms/step\n",
      "A classe prevista para o texto é o índice: 1\n",
      "\n",
      "Palavras do exemplo e seus pesos na decisão da classe prevista (LSTM):\n",
      "          Feature    Weight\n",
      "595        square  0.427090\n",
      "3583   estimation  0.386568\n",
      "260       measure  0.161260\n",
      "1600        meter  0.056753\n",
      "40     technology -0.230773\n",
      "477          park -0.238884\n",
      "1383  preliminary -0.277249\n"
     ]
    },
    {
     "data": {
      "image/png": "[encoded data removed]",
      "text/plain": [
       "<Figure size 1000x500 with 1 Axes>"
      ]
     },
     "metadata": {},
     "output_type": "display_data"
    }
   ],
   "source": [
    "# Definir o texto de exemplo\n",
    "sample_text = \"preliminary estimation technology park measure square meter\"\n",
    "\n",
    "# **Etapa 1: Calcular a importância das palavras para cada classe do modelo LSTM**\n",
    "\n",
    "# Obter os pesos da camada de Embedding\n",
    "# Supondo que a camada de embedding é a primeira (índice 0)\n",
    "embedding_weights = model.layers[0].get_weights()[0]\n",
    "\n",
    "# Usar tokenizer.index_word para obter as palavras a partir dos índices\n",
    "nomes_das_features = [tokenizer.index_word.get(i, '<OOV>') for i in range(1, embedding_weights.shape[0] + 1)]\n",
    "\n",
    "# Obter os pesos da camada Dense (a última camada de saída)\n",
    "dense_weights = model.layers[-1].get_weights()[0]\n",
    "\n",
    "# Calcular a importância das palavras para cada classe\n",
    "num_classes = dense_weights.shape[1]  # Número de classes de saída\n",
    "importancias_das_features = []\n",
    "for class_index in range(num_classes):\n",
    "    # Obter os pesos da camada Dense para a classe atual\n",
    "    class_weights = dense_weights[:, class_index]\n",
    "\n",
    "    # Calcular a importância das palavras multiplicando os pesos da camada Dense pelos pesos da camada de Embedding\n",
    "    word_importances = np.dot(embedding_weights, class_weights)\n",
    "\n",
    "    importancias_da_classe = pd.DataFrame({'Feature': nomes_das_features, 'Weight': word_importances})\n",
    "    importancias_da_classe = importancias_da_classe.sort_values(by='Weight', ascending=False)\n",
    "    importancias_das_features.append(importancias_da_classe)\n",
    "\n",
    "# **Etapa 2: Prever a classe do sample_text usando o modelo LSTM**\n",
    "\n",
    "# O `maxlen` deve ser o mesmo usado durante o treinamento\n",
    "# Assumindo que a variável `MAX_SEQUENCE_LENGTH` foi definida em uma célula anterior\n",
    "# Caso contrário, defina-a aqui: MAX_SEQUENCE_LENGTH = ...\n",
    "MAX_SEQUENCE_LENGTH = 100 # Substitua pelo valor correto do seu modelo\n",
    "\n",
    "# Pré-processar o texto de exemplo para o modelo LSTM\n",
    "sequence = tokenizer.texts_to_sequences([sample_text])\n",
    "padded_sequence = pad_sequences(sequence, maxlen=MAX_SEQUENCE_LENGTH)\n",
    "\n",
    "# Fazer a previsão\n",
    "prediction = model.predict(padded_sequence)\n",
    "\n",
    "# Obter o índice da classe prevista (a com maior probabilidade)\n",
    "predicted_class_index = np.argmax(prediction[0])\n",
    "\n",
    "print(f\"A classe prevista para o texto é o índice: {predicted_class_index}\")\n",
    "\n",
    "# **Etapa 3: Visualizar a importância das palavras para a classe prevista**\n",
    "\n",
    "# Selecionar o DataFrame de importâncias da classe prevista\n",
    "importancias_da_classe_prevista = importancias_das_features[predicted_class_index]\n",
    "\n",
    "# Criar um conjunto com as palavras do exemplo, para uma busca mais eficiente\n",
    "# A regex `\\b\\w+\\b` garante que apenas palavras sejam extraídas, ignorando pontuação\n",
    "palavras_exemplo = set(re.findall(r'\\b\\w+\\b', sample_text.lower()))\n",
    "\n",
    "# Filtrar o DataFrame para incluir apenas as palavras que estão no texto de exemplo\n",
    "importancias_exemplo_lstm = importancias_da_classe_prevista[\n",
    "    importancias_da_classe_prevista['Feature'].apply(lambda x: x in palavras_exemplo)\n",
    "]\n",
    "importancias_exemplo_lstm = importancias_exemplo_lstm.sort_values(by='Weight', ascending=False)\n",
    "\n",
    "# Exibir as importâncias das palavras do exemplo\n",
    "print(\"\\nPalavras do exemplo e seus pesos na decisão da classe prevista (LSTM):\")\n",
    "print(importancias_exemplo_lstm[['Feature', 'Weight']])\n",
    "\n",
    "# **Etapa 4: Plotar o gráfico**\n",
    "\n",
    "plt.figure(figsize=(10, 5))\n",
    "plt.barh(importancias_exemplo_lstm['Feature'], importancias_exemplo_lstm['Weight'], color=\"red\")\n",
    "plt.xlabel(\"Peso da Palavra na decisão\")\n",
    "plt.ylabel(\"Palavra\")\n",
    "plt.title(f\"Palavras do exemplo e sua importância para a classe prevista (LSTM, Classe: {predicted_class_index})\")\n",
    "plt.gca().invert_yaxis()\n",
    "plt.show()"
   ]
  },
  {
   "cell_type": "code",
   "execution_count": 41,
   "metadata": {
    "executionInfo": {
     "elapsed": 8,
     "status": "ok",
     "timestamp": 1746056736302,
     "user": {
      "displayName": "Luirys Nascimento",
      "userId": "04569512085598904612"
     },
     "user_tz": 180
    },
    "id": "UTMzIQFGBOhm"
   },
   "outputs": [],
   "source": [
    "# Obter os pesos da camada de Embedding\n",
    "embedding_weights = model.layers[0].get_weights()[0]  # A primeira camada é a Embedding\n",
    "\n",
    "# Using tokenizer.index_word to get words from indices\n",
    "nomes_das_features = [tokenizer.index_word.get(i, '<OOV>') for i in range(1, embedding_weights.shape[0] + 1)]\n",
    "\n",
    "# Obter os pesos da camada Dense\n",
    "dense_weights = model.layers[-1].get_weights()[0]  # A última camada é a Dense\n",
    "\n",
    "# Calcular a importância das palavras para cada classe\n",
    "num_classes = dense_weights.shape[1]  # Número de classes de saída\n",
    "importancias_das_features = []\n",
    "for class_index in range(num_classes):\n",
    "    # Obter os pesos da camada Dense para a classe atual\n",
    "    class_weights = dense_weights[:, class_index]\n",
    "\n",
    "    # Calcular a importância das palavras multiplicando os pesos da camada Dense pelos pesos da camada de Embedding\n",
    "    word_importances = np.dot(embedding_weights, class_weights)\n",
    "\n",
    "    importancias_da_classe = pd.DataFrame({'Feature': nomes_das_features, 'Weight': word_importances})\n",
    "    importancias_da_classe = importancias_da_classe.sort_values(by='Weight', ascending=False)\n",
    "    importancias_das_features.append(importancias_da_classe)\n",
    "# Exibir as importâncias das palavras para o mesmo exemplo usado no lime\n",
    "\n"
   ]
  },
  {
   "cell_type": "code",
   "execution_count": 42,
   "metadata": {
    "colab": {
     "base_uri": "https://localhost:8080/"
    },
    "executionInfo": {
     "elapsed": 7,
     "status": "ok",
     "timestamp": 1746056736315,
     "user": {
      "displayName": "Luirys Nascimento",
      "userId": "04569512085598904612"
     },
     "user_tz": 180
    },
    "id": "ZJXQhj3LByAj",
    "outputId": "e0e49b46-1bc7-49a4-8a2d-92df53b94a9b"
   },
   "outputs": [
    {
     "name": "stdout",
     "output_type": "stream",
     "text": [
      "Most important features for the Negative class:\n",
      "            Feature      Peso\n",
      "317          voting  1.812967\n",
      "73      development  1.549450\n",
      "685       condition  1.468991\n",
      "846        released  1.295485\n",
      "1534         traded  1.256591\n",
      "1082  comprehensive  1.239825\n",
      "707       worldwide  1.211318\n",
      "350            four  1.194544\n",
      "501           space  1.150036\n",
      "806          norway  1.121659\n",
      "1840           tree  1.111161\n",
      "2834          yahoo  1.105808\n",
      "744        launched  1.067742\n",
      "1987            red  1.019024\n",
      "1559   professional  0.999356\n",
      "3560       nurminen  0.973388\n",
      "329         several  0.948054\n",
      "1065        coating  0.912385\n",
      "1313         turkey  0.909960\n",
      "1554     competence  0.895423\n"
     ]
    }
   ],
   "source": [
    "class_index = 0\n",
    "class_weights = dense_weights[:, class_index]\n",
    "word_importances = np.dot(embedding_weights, class_weights)\n",
    "importancias_negativas = pd.DataFrame({'Feature': nomes_das_features, 'Peso': word_importances})\n",
    "importancias_negativas = importancias_negativas.sort_values(by='Peso', ascending=False)\n",
    "\n",
    "print(\"Most important features for the Negative class:\")\n",
    "print(importancias_negativas.head(20))"
   ]
  },
  {
   "cell_type": "code",
   "execution_count": 43,
   "metadata": {
    "colab": {
     "base_uri": "https://localhost:8080/",
     "height": 389
    },
    "executionInfo": {
     "elapsed": 7,
     "status": "ok",
     "timestamp": 1746056736323,
     "user": {
      "displayName": "Luirys Nascimento",
      "userId": "04569512085598904612"
     },
     "user_tz": 180
    },
    "id": "jGpjWaDECKBK",
    "outputId": "2cdcbd96-180f-4a13-b5a5-d49b0ed805b4"
   },
   "outputs": [
    {
     "data": {
      "image/png": "[encoded data removed]",
      "text/plain": [
       "<Figure size 1000x600 with 1 Axes>"
      ]
     },
     "metadata": {},
     "output_type": "display_data"
    }
   ],
   "source": [
    "# Criar gráfico de barras para palavras negativas\n",
    "plt.figure(figsize=(10, 6))\n",
    "plt.barh(importancias_negativas['Feature'][:20], importancias_negativas['Peso'][:20])\n",
    "plt.xlabel(\"Weight\")\n",
    "plt.ylabel(\"Words\")\n",
    "plt.title(\"Most Important Words for the Negative Class\")\n",
    "plt.gca().invert_yaxis()  # Inverter o eixo y para melhor visualização\n",
    "plt.show()"
   ]
  },
  {
   "cell_type": "code",
   "execution_count": 44,
   "metadata": {
    "colab": {
     "base_uri": "https://localhost:8080/"
    },
    "executionInfo": {
     "elapsed": 14,
     "status": "ok",
     "timestamp": 1746056736339,
     "user": {
      "displayName": "Luirys Nascimento",
      "userId": "04569512085598904612"
     },
     "user_tz": 180
    },
    "id": "3b7A_blBB2WE",
    "outputId": "4fa03eac-7e66-430f-a00f-f1e296c05182"
   },
   "outputs": [
    {
     "name": "stdout",
     "output_type": "stream",
     "text": [
      "Most important features for the Neutral class:\n",
      "             Feature      Peso\n",
      "1082   comprehensive  1.421645\n",
      "1121      specialist  1.385378\n",
      "35             today  1.268968\n",
      "350             four  1.140729\n",
      "73       development  1.093816\n",
      "787       comparable  1.092152\n",
      "910          citycon  1.061107\n",
      "2055      repurchase  1.050361\n",
      "1319          coated  0.989063\n",
      "516          manager  0.966398\n",
      "298      performance  0.959961\n",
      "3286  affectogenimap  0.947612\n",
      "1798         newpage  0.941902\n",
      "3370          diapol  0.940040\n",
      "501            space  0.938711\n",
      "284         chairman  0.931246\n",
      "63      construction  0.929292\n",
      "1083           matti  0.888657\n",
      "1808            keep  0.871758\n",
      "4               said  0.868493\n"
     ]
    }
   ],
   "source": [
    "class_index = 1\n",
    "class_weights = dense_weights[:, class_index]\n",
    "word_importances = np.dot(embedding_weights, class_weights)\n",
    "importancias_neutras = pd.DataFrame({'Feature': nomes_das_features, 'Peso': word_importances})\n",
    "importancias_neutras = importancias_neutras.sort_values(by='Peso', ascending=False)\n",
    "\n",
    "print(\"Most important features for the Neutral class:\")\n",
    "print(importancias_neutras.head(20))"
   ]
  },
  {
   "cell_type": "code",
   "execution_count": 45,
   "metadata": {
    "colab": {
     "base_uri": "https://localhost:8080/",
     "height": 396
    },
    "executionInfo": {
     "elapsed": 217,
     "status": "ok",
     "timestamp": 1746056736558,
     "user": {
      "displayName": "Luirys Nascimento",
      "userId": "04569512085598904612"
     },
     "user_tz": 180
    },
    "id": "Rg3bInCWCWjj",
    "outputId": "d7924b6d-ea75-4886-c6a8-f9a9b9c6a94a"
   },
   "outputs": [
    {
     "data": {
      "image/png": "[encoded data removed]",
      "text/plain": [
       "<Figure size 1000x600 with 1 Axes>"
      ]
     },
     "metadata": {},
     "output_type": "display_data"
    }
   ],
   "source": [
    "# Criar gráfico de barras para palavras neutras\n",
    "plt.figure(figsize=(10, 6))\n",
    "plt.barh(importancias_neutras['Feature'][:20], importancias_neutras['Peso'][:20])\n",
    "plt.xlabel(\"Weight\")\n",
    "plt.ylabel(\"Words\")\n",
    "plt.title(\"Most Important Words for the Neutral Class\")\n",
    "plt.gca().invert_yaxis()  # Inverter o eixo y para melhor visualização\n",
    "plt.show()"
   ]
  },
  {
   "cell_type": "code",
   "execution_count": 46,
   "metadata": {
    "colab": {
     "base_uri": "https://localhost:8080/"
    },
    "executionInfo": {
     "elapsed": 22,
     "status": "ok",
     "timestamp": 1746056736576,
     "user": {
      "displayName": "Luirys Nascimento",
      "userId": "04569512085598904612"
     },
     "user_tz": 180
    },
    "id": "b6WMNykHB7u-",
    "outputId": "9bd0c9b6-a4ce-4f70-a8a7-f61bea325425"
   },
   "outputs": [
    {
     "name": "stdout",
     "output_type": "stream",
     "text": [
      "Most important features for the Positive class:\n",
      "          Feature      Peso\n",
      "275       leading  1.221832\n",
      "1386       valued  1.215923\n",
      "447         chief  1.180294\n",
      "1709  uncertainty  1.173594\n",
      "879        street  1.154182\n",
      "575          call  1.118571\n",
      "3393          avc  1.117100\n",
      "662        leader  1.090059\n",
      "726          book  1.073377\n",
      "148           say  1.072814\n",
      "664       biggest  1.059858\n",
      "807         waste  1.049299\n",
      "1700        kuitu  1.045493\n",
      "498          name  1.039122\n",
      "1985         flat  1.033368\n",
      "3298         prof  1.021550\n",
      "2043      turnkey  1.004087\n",
      "587     continued  1.000127\n",
      "1000        kroon  0.998663\n",
      "1429         cell  0.992979\n"
     ]
    }
   ],
   "source": [
    "class_index = 2\n",
    "class_weights = dense_weights[:, class_index]\n",
    "word_importances = np.dot(embedding_weights, class_weights)\n",
    "importancias_positivas = pd.DataFrame({'Feature': nomes_das_features, 'Peso': word_importances})\n",
    "importancias_positivas = importancias_positivas.sort_values(by='Peso', ascending=False)\n",
    "\n",
    "print(\"Most important features for the Positive class:\")\n",
    "print(importancias_positivas.head(20))"
   ]
  },
  {
   "cell_type": "code",
   "execution_count": 47,
   "metadata": {
    "colab": {
     "base_uri": "https://localhost:8080/",
     "height": 399
    },
    "executionInfo": {
     "elapsed": 390,
     "status": "ok",
     "timestamp": 1746056736963,
     "user": {
      "displayName": "Luirys Nascimento",
      "userId": "04569512085598904612"
     },
     "user_tz": 180
    },
    "id": "-T2coEAvCdo5",
    "outputId": "2a540f02-a5db-41cf-e9d0-fc0b7912bb8d"
   },
   "outputs": [
    {
     "data": {
      "image/png": "[encoded data removed]",
      "text/plain": [
       "<Figure size 1000x600 with 1 Axes>"
      ]
     },
     "metadata": {},
     "output_type": "display_data"
    }
   ],
   "source": [
    "# Criar gráfico de barras para palavras positivas\n",
    "plt.figure(figsize=(10, 6))\n",
    "plt.barh(importancias_positivas['Feature'][:20], importancias_positivas['Peso'][:20])\n",
    "plt.xlabel(\"Weight\")\n",
    "plt.ylabel(\"Words\")\n",
    "plt.title(\"Most Important Words for the Positive Class\")\n",
    "plt.gca().invert_yaxis()  # Inverter o eixo y para melhor visualização\n",
    "plt.show()"
   ]
  }
 ],
 "metadata": {
  "colab": {
   "provenance": [
    {
     "file_id": "1AH1y9s2AudWqQp5geN4XjoCC9bTHxgkQ",
     "timestamp": 1745530429963
    },
    {
     "file_id": "1MDF3K5NV4jUK3OFblb0RECXMxMkm1PH9",
     "timestamp": 1745524524235
    }
   ]
  },
  "kernelspec": {
   "display_name": "Python 3",
   "name": "python3"
  },
  "language_info": {
   "codemirror_mode": {
    "name": "ipython",
    "version": 3
   },
   "file_extension": ".py",
   "mimetype": "text/x-python",
   "name": "python",
   "nbconvert_exporter": "python",
   "pygments_lexer": "ipython3",
   "version": "3.11.0"
  }
 },
 "nbformat": 4,
 "nbformat_minor": 0
}
